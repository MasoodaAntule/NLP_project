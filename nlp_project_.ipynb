{
  "cells": [
    {
      "cell_type": "markdown",
      "metadata": {
        "id": "view-in-github",
        "colab_type": "text"
      },
      "source": [
        "<a href=\"https://colab.research.google.com/github/MasoodaAntule/NLP_project/blob/main/nlp_project_.ipynb\" target=\"_parent\"><img src=\"https://colab.research.google.com/assets/colab-badge.svg\" alt=\"Open In Colab\"/></a>"
      ]
    },
    {
      "cell_type": "code",
      "execution_count": null,
      "metadata": {
        "colab": {
          "base_uri": "https://localhost:8080/"
        },
        "id": "eqh2EFHWSEoW",
        "outputId": "cdd1ee59-82ea-4801-8c60-5472bd0ff744"
      },
      "outputs": [
        {
          "output_type": "stream",
          "name": "stdout",
          "text": [
            "Collecting contractions\n",
            "  Downloading contractions-0.1.73-py2.py3-none-any.whl (8.7 kB)\n",
            "Collecting textsearch>=0.0.21 (from contractions)\n",
            "  Downloading textsearch-0.0.24-py2.py3-none-any.whl (7.6 kB)\n",
            "Collecting anyascii (from textsearch>=0.0.21->contractions)\n",
            "  Downloading anyascii-0.3.2-py3-none-any.whl (289 kB)\n",
            "\u001b[2K     \u001b[90m━━━━━━━━━━━━━━━━━━━━━━━━━━━━━━━━━━━━━━━━\u001b[0m \u001b[32m289.9/289.9 kB\u001b[0m \u001b[31m2.8 MB/s\u001b[0m eta \u001b[36m0:00:00\u001b[0m\n",
            "\u001b[?25hCollecting pyahocorasick (from textsearch>=0.0.21->contractions)\n",
            "  Downloading pyahocorasick-2.0.0-cp310-cp310-manylinux_2_5_x86_64.manylinux1_x86_64.manylinux_2_12_x86_64.manylinux2010_x86_64.whl (110 kB)\n",
            "\u001b[2K     \u001b[90m━━━━━━━━━━━━━━━━━━━━━━━━━━━━━━━━━━━━━━━━\u001b[0m \u001b[32m110.8/110.8 kB\u001b[0m \u001b[31m13.1 MB/s\u001b[0m eta \u001b[36m0:00:00\u001b[0m\n",
            "\u001b[?25hInstalling collected packages: pyahocorasick, anyascii, textsearch, contractions\n",
            "Successfully installed anyascii-0.3.2 contractions-0.1.73 pyahocorasick-2.0.0 textsearch-0.0.24\n"
          ]
        }
      ],
      "source": [
        "pip install contractions"
      ]
    },
    {
      "cell_type": "code",
      "execution_count": null,
      "metadata": {
        "colab": {
          "base_uri": "https://localhost:8080/"
        },
        "id": "X-3lNZzASUg0",
        "outputId": "1d150dde-c923-4d91-fc8f-99ec50a97fb1"
      },
      "outputs": [
        {
          "output_type": "stream",
          "name": "stdout",
          "text": [
            "Collecting unidecode\n",
            "  Downloading Unidecode-1.3.8-py3-none-any.whl (235 kB)\n",
            "\u001b[2K     \u001b[90m━━━━━━━━━━━━━━━━━━━━━━━━━━━━━━━━━━━━━━━━\u001b[0m \u001b[32m235.5/235.5 kB\u001b[0m \u001b[31m2.1 MB/s\u001b[0m eta \u001b[36m0:00:00\u001b[0m\n",
            "\u001b[?25hInstalling collected packages: unidecode\n",
            "Successfully installed unidecode-1.3.8\n"
          ]
        }
      ],
      "source": [
        " pip install unidecode"
      ]
    },
    {
      "cell_type": "code",
      "execution_count": null,
      "metadata": {
        "colab": {
          "base_uri": "https://localhost:8080/"
        },
        "id": "XrNuXgugT2pl",
        "outputId": "ad62f6c7-86a9-47fc-d8f0-6979a9e2a0ba",
        "scrolled": true
      },
      "outputs": [
        {
          "output_type": "stream",
          "name": "stdout",
          "text": [
            "Collecting autocorrect\n",
            "  Downloading autocorrect-2.6.1.tar.gz (622 kB)\n",
            "\u001b[2K     \u001b[90m━━━━━━━━━━━━━━━━━━━━━━━━━━━━━━━━━━━━━━━━\u001b[0m \u001b[32m622.8/622.8 kB\u001b[0m \u001b[31m3.9 MB/s\u001b[0m eta \u001b[36m0:00:00\u001b[0m\n",
            "\u001b[?25h  Preparing metadata (setup.py) ... \u001b[?25l\u001b[?25hdone\n",
            "Building wheels for collected packages: autocorrect\n",
            "  Building wheel for autocorrect (setup.py) ... \u001b[?25l\u001b[?25hdone\n",
            "  Created wheel for autocorrect: filename=autocorrect-2.6.1-py3-none-any.whl size=622364 sha256=7e385e887ee8e7b02d91567f1e4b5c7d51a7415657bfc643e343a61395cda21c\n",
            "  Stored in directory: /root/.cache/pip/wheels/b5/7b/6d/b76b29ce11ff8e2521c8c7dd0e5bfee4fb1789d76193124343\n",
            "Successfully built autocorrect\n",
            "Installing collected packages: autocorrect\n",
            "Successfully installed autocorrect-2.6.1\n"
          ]
        }
      ],
      "source": [
        "pip install autocorrect"
      ]
    },
    {
      "cell_type": "markdown",
      "metadata": {
        "id": "guv8t2ekuhf6"
      },
      "source": [
        "nltk = natural language tookit"
      ]
    },
    {
      "cell_type": "code",
      "execution_count": null,
      "metadata": {
        "id": "6Vl-kU38TB3U"
      },
      "outputs": [],
      "source": [
        "from nltk.tokenize import word_tokenize\n",
        "from nltk.stem import WordNetLemmatizer\n",
        "from nltk.corpus import stopwords\n",
        "from string import punctuation\n",
        "import contractions\n",
        "from unidecode import unidecode\n",
        "import pandas as pd\n",
        "from sklearn.feature_extraction.text import CountVectorizer, TfidfVectorizer\n",
        "from sklearn.naive_bayes import MultinomialNB\n",
        "from sklearn.metrics import accuracy_score\n",
        "from sklearn.model_selection import train_test_split\n",
        "from autocorrect import Speller"
      ]
    },
    {
      "cell_type": "code",
      "execution_count": null,
      "metadata": {
        "colab": {
          "base_uri": "https://localhost:8080/",
          "height": 449
        },
        "id": "Ws3kfhnDTz3V",
        "outputId": "9536222c-bbc5-4be4-95dd-b0c9d748b9ae"
      },
      "outputs": [
        {
          "output_type": "stream",
          "name": "stderr",
          "text": [
            "<ipython-input-5-1da09f1c0a43>:1: FutureWarning: The error_bad_lines argument has been deprecated and will be removed in a future version. Use on_bad_lines in the future.\n",
            "\n",
            "\n",
            "  data = pd.read_csv('Train!.csv',error_bad_lines=False, engine=\"python\")\n",
            "Skipping line 5561: unexpected end of data\n"
          ]
        },
        {
          "output_type": "execute_result",
          "data": {
            "text/plain": [
              "                                                text  label\n",
              "0  I grew up (b. 1965) watching and loving the Th...      0\n",
              "1  When I put this movie in my DVD player, and sa...      0\n",
              "2  Why do people who do not know what a particula...      0\n",
              "3  Even though I have great interest in Biblical ...      0\n",
              "4  Im a die hard Dads Army fan and nothing will e...      1\n",
              "5  A terrible movie as everyone has said. What ma...      0\n",
              "6  Finally watched this shocking movie last night...      1\n",
              "7  I caught this film on AZN on cable. It sounded...      0\n",
              "8  It may be the remake of 1987 Autumn's Tale aft...      1\n",
              "9  My Super Ex Girlfriend turned out to be a plea...      1"
            ],
            "text/html": [
              "\n",
              "  <div id=\"df-e92098e0-5a25-4963-b8d8-cf05fc2fb601\" class=\"colab-df-container\">\n",
              "    <div>\n",
              "<style scoped>\n",
              "    .dataframe tbody tr th:only-of-type {\n",
              "        vertical-align: middle;\n",
              "    }\n",
              "\n",
              "    .dataframe tbody tr th {\n",
              "        vertical-align: top;\n",
              "    }\n",
              "\n",
              "    .dataframe thead th {\n",
              "        text-align: right;\n",
              "    }\n",
              "</style>\n",
              "<table border=\"1\" class=\"dataframe\">\n",
              "  <thead>\n",
              "    <tr style=\"text-align: right;\">\n",
              "      <th></th>\n",
              "      <th>text</th>\n",
              "      <th>label</th>\n",
              "    </tr>\n",
              "  </thead>\n",
              "  <tbody>\n",
              "    <tr>\n",
              "      <th>0</th>\n",
              "      <td>I grew up (b. 1965) watching and loving the Th...</td>\n",
              "      <td>0</td>\n",
              "    </tr>\n",
              "    <tr>\n",
              "      <th>1</th>\n",
              "      <td>When I put this movie in my DVD player, and sa...</td>\n",
              "      <td>0</td>\n",
              "    </tr>\n",
              "    <tr>\n",
              "      <th>2</th>\n",
              "      <td>Why do people who do not know what a particula...</td>\n",
              "      <td>0</td>\n",
              "    </tr>\n",
              "    <tr>\n",
              "      <th>3</th>\n",
              "      <td>Even though I have great interest in Biblical ...</td>\n",
              "      <td>0</td>\n",
              "    </tr>\n",
              "    <tr>\n",
              "      <th>4</th>\n",
              "      <td>Im a die hard Dads Army fan and nothing will e...</td>\n",
              "      <td>1</td>\n",
              "    </tr>\n",
              "    <tr>\n",
              "      <th>5</th>\n",
              "      <td>A terrible movie as everyone has said. What ma...</td>\n",
              "      <td>0</td>\n",
              "    </tr>\n",
              "    <tr>\n",
              "      <th>6</th>\n",
              "      <td>Finally watched this shocking movie last night...</td>\n",
              "      <td>1</td>\n",
              "    </tr>\n",
              "    <tr>\n",
              "      <th>7</th>\n",
              "      <td>I caught this film on AZN on cable. It sounded...</td>\n",
              "      <td>0</td>\n",
              "    </tr>\n",
              "    <tr>\n",
              "      <th>8</th>\n",
              "      <td>It may be the remake of 1987 Autumn's Tale aft...</td>\n",
              "      <td>1</td>\n",
              "    </tr>\n",
              "    <tr>\n",
              "      <th>9</th>\n",
              "      <td>My Super Ex Girlfriend turned out to be a plea...</td>\n",
              "      <td>1</td>\n",
              "    </tr>\n",
              "  </tbody>\n",
              "</table>\n",
              "</div>\n",
              "    <div class=\"colab-df-buttons\">\n",
              "\n",
              "  <div class=\"colab-df-container\">\n",
              "    <button class=\"colab-df-convert\" onclick=\"convertToInteractive('df-e92098e0-5a25-4963-b8d8-cf05fc2fb601')\"\n",
              "            title=\"Convert this dataframe to an interactive table.\"\n",
              "            style=\"display:none;\">\n",
              "\n",
              "  <svg xmlns=\"http://www.w3.org/2000/svg\" height=\"24px\" viewBox=\"0 -960 960 960\">\n",
              "    <path d=\"M120-120v-720h720v720H120Zm60-500h600v-160H180v160Zm220 220h160v-160H400v160Zm0 220h160v-160H400v160ZM180-400h160v-160H180v160Zm440 0h160v-160H620v160ZM180-180h160v-160H180v160Zm440 0h160v-160H620v160Z\"/>\n",
              "  </svg>\n",
              "    </button>\n",
              "\n",
              "  <style>\n",
              "    .colab-df-container {\n",
              "      display:flex;\n",
              "      gap: 12px;\n",
              "    }\n",
              "\n",
              "    .colab-df-convert {\n",
              "      background-color: #E8F0FE;\n",
              "      border: none;\n",
              "      border-radius: 50%;\n",
              "      cursor: pointer;\n",
              "      display: none;\n",
              "      fill: #1967D2;\n",
              "      height: 32px;\n",
              "      padding: 0 0 0 0;\n",
              "      width: 32px;\n",
              "    }\n",
              "\n",
              "    .colab-df-convert:hover {\n",
              "      background-color: #E2EBFA;\n",
              "      box-shadow: 0px 1px 2px rgba(60, 64, 67, 0.3), 0px 1px 3px 1px rgba(60, 64, 67, 0.15);\n",
              "      fill: #174EA6;\n",
              "    }\n",
              "\n",
              "    .colab-df-buttons div {\n",
              "      margin-bottom: 4px;\n",
              "    }\n",
              "\n",
              "    [theme=dark] .colab-df-convert {\n",
              "      background-color: #3B4455;\n",
              "      fill: #D2E3FC;\n",
              "    }\n",
              "\n",
              "    [theme=dark] .colab-df-convert:hover {\n",
              "      background-color: #434B5C;\n",
              "      box-shadow: 0px 1px 3px 1px rgba(0, 0, 0, 0.15);\n",
              "      filter: drop-shadow(0px 1px 2px rgba(0, 0, 0, 0.3));\n",
              "      fill: #FFFFFF;\n",
              "    }\n",
              "  </style>\n",
              "\n",
              "    <script>\n",
              "      const buttonEl =\n",
              "        document.querySelector('#df-e92098e0-5a25-4963-b8d8-cf05fc2fb601 button.colab-df-convert');\n",
              "      buttonEl.style.display =\n",
              "        google.colab.kernel.accessAllowed ? 'block' : 'none';\n",
              "\n",
              "      async function convertToInteractive(key) {\n",
              "        const element = document.querySelector('#df-e92098e0-5a25-4963-b8d8-cf05fc2fb601');\n",
              "        const dataTable =\n",
              "          await google.colab.kernel.invokeFunction('convertToInteractive',\n",
              "                                                    [key], {});\n",
              "        if (!dataTable) return;\n",
              "\n",
              "        const docLinkHtml = 'Like what you see? Visit the ' +\n",
              "          '<a target=\"_blank\" href=https://colab.research.google.com/notebooks/data_table.ipynb>data table notebook</a>'\n",
              "          + ' to learn more about interactive tables.';\n",
              "        element.innerHTML = '';\n",
              "        dataTable['output_type'] = 'display_data';\n",
              "        await google.colab.output.renderOutput(dataTable, element);\n",
              "        const docLink = document.createElement('div');\n",
              "        docLink.innerHTML = docLinkHtml;\n",
              "        element.appendChild(docLink);\n",
              "      }\n",
              "    </script>\n",
              "  </div>\n",
              "\n",
              "\n",
              "<div id=\"df-cecd18ac-1703-4f29-80f4-88e676545bc8\">\n",
              "  <button class=\"colab-df-quickchart\" onclick=\"quickchart('df-cecd18ac-1703-4f29-80f4-88e676545bc8')\"\n",
              "            title=\"Suggest charts\"\n",
              "            style=\"display:none;\">\n",
              "\n",
              "<svg xmlns=\"http://www.w3.org/2000/svg\" height=\"24px\"viewBox=\"0 0 24 24\"\n",
              "     width=\"24px\">\n",
              "    <g>\n",
              "        <path d=\"M19 3H5c-1.1 0-2 .9-2 2v14c0 1.1.9 2 2 2h14c1.1 0 2-.9 2-2V5c0-1.1-.9-2-2-2zM9 17H7v-7h2v7zm4 0h-2V7h2v10zm4 0h-2v-4h2v4z\"/>\n",
              "    </g>\n",
              "</svg>\n",
              "  </button>\n",
              "\n",
              "<style>\n",
              "  .colab-df-quickchart {\n",
              "      --bg-color: #E8F0FE;\n",
              "      --fill-color: #1967D2;\n",
              "      --hover-bg-color: #E2EBFA;\n",
              "      --hover-fill-color: #174EA6;\n",
              "      --disabled-fill-color: #AAA;\n",
              "      --disabled-bg-color: #DDD;\n",
              "  }\n",
              "\n",
              "  [theme=dark] .colab-df-quickchart {\n",
              "      --bg-color: #3B4455;\n",
              "      --fill-color: #D2E3FC;\n",
              "      --hover-bg-color: #434B5C;\n",
              "      --hover-fill-color: #FFFFFF;\n",
              "      --disabled-bg-color: #3B4455;\n",
              "      --disabled-fill-color: #666;\n",
              "  }\n",
              "\n",
              "  .colab-df-quickchart {\n",
              "    background-color: var(--bg-color);\n",
              "    border: none;\n",
              "    border-radius: 50%;\n",
              "    cursor: pointer;\n",
              "    display: none;\n",
              "    fill: var(--fill-color);\n",
              "    height: 32px;\n",
              "    padding: 0;\n",
              "    width: 32px;\n",
              "  }\n",
              "\n",
              "  .colab-df-quickchart:hover {\n",
              "    background-color: var(--hover-bg-color);\n",
              "    box-shadow: 0 1px 2px rgba(60, 64, 67, 0.3), 0 1px 3px 1px rgba(60, 64, 67, 0.15);\n",
              "    fill: var(--button-hover-fill-color);\n",
              "  }\n",
              "\n",
              "  .colab-df-quickchart-complete:disabled,\n",
              "  .colab-df-quickchart-complete:disabled:hover {\n",
              "    background-color: var(--disabled-bg-color);\n",
              "    fill: var(--disabled-fill-color);\n",
              "    box-shadow: none;\n",
              "  }\n",
              "\n",
              "  .colab-df-spinner {\n",
              "    border: 2px solid var(--fill-color);\n",
              "    border-color: transparent;\n",
              "    border-bottom-color: var(--fill-color);\n",
              "    animation:\n",
              "      spin 1s steps(1) infinite;\n",
              "  }\n",
              "\n",
              "  @keyframes spin {\n",
              "    0% {\n",
              "      border-color: transparent;\n",
              "      border-bottom-color: var(--fill-color);\n",
              "      border-left-color: var(--fill-color);\n",
              "    }\n",
              "    20% {\n",
              "      border-color: transparent;\n",
              "      border-left-color: var(--fill-color);\n",
              "      border-top-color: var(--fill-color);\n",
              "    }\n",
              "    30% {\n",
              "      border-color: transparent;\n",
              "      border-left-color: var(--fill-color);\n",
              "      border-top-color: var(--fill-color);\n",
              "      border-right-color: var(--fill-color);\n",
              "    }\n",
              "    40% {\n",
              "      border-color: transparent;\n",
              "      border-right-color: var(--fill-color);\n",
              "      border-top-color: var(--fill-color);\n",
              "    }\n",
              "    60% {\n",
              "      border-color: transparent;\n",
              "      border-right-color: var(--fill-color);\n",
              "    }\n",
              "    80% {\n",
              "      border-color: transparent;\n",
              "      border-right-color: var(--fill-color);\n",
              "      border-bottom-color: var(--fill-color);\n",
              "    }\n",
              "    90% {\n",
              "      border-color: transparent;\n",
              "      border-bottom-color: var(--fill-color);\n",
              "    }\n",
              "  }\n",
              "</style>\n",
              "\n",
              "  <script>\n",
              "    async function quickchart(key) {\n",
              "      const quickchartButtonEl =\n",
              "        document.querySelector('#' + key + ' button');\n",
              "      quickchartButtonEl.disabled = true;  // To prevent multiple clicks.\n",
              "      quickchartButtonEl.classList.add('colab-df-spinner');\n",
              "      try {\n",
              "        const charts = await google.colab.kernel.invokeFunction(\n",
              "            'suggestCharts', [key], {});\n",
              "      } catch (error) {\n",
              "        console.error('Error during call to suggestCharts:', error);\n",
              "      }\n",
              "      quickchartButtonEl.classList.remove('colab-df-spinner');\n",
              "      quickchartButtonEl.classList.add('colab-df-quickchart-complete');\n",
              "    }\n",
              "    (() => {\n",
              "      let quickchartButtonEl =\n",
              "        document.querySelector('#df-cecd18ac-1703-4f29-80f4-88e676545bc8 button');\n",
              "      quickchartButtonEl.style.display =\n",
              "        google.colab.kernel.accessAllowed ? 'block' : 'none';\n",
              "    })();\n",
              "  </script>\n",
              "</div>\n",
              "\n",
              "    </div>\n",
              "  </div>\n"
            ]
          },
          "metadata": {},
          "execution_count": 5
        }
      ],
      "source": [
        "data = pd.read_csv('Train!.csv',error_bad_lines=False, engine=\"python\")\n",
        "data.head(10)"
      ]
    },
    {
      "cell_type": "code",
      "execution_count": null,
      "metadata": {
        "colab": {
          "base_uri": "https://localhost:8080/"
        },
        "id": "fATPz0LtUJBD",
        "outputId": "d8b95243-3801-4539-aff7-c0c47a16f7a0"
      },
      "outputs": [
        {
          "output_type": "execute_result",
          "data": {
            "text/plain": [
              "0       I grew up (b. 1965) watching and loving the Th...\n",
              "1       When I put this movie in my DVD player, and sa...\n",
              "2       Why do people who do not know what a particula...\n",
              "3       Even though I have great interest in Biblical ...\n",
              "4       Im a die hard Dads Army fan and nothing will e...\n",
              "                              ...                        \n",
              "5554    In & Out was a funny comedy with good performa...\n",
              "5555    Okay, maybe this movie not a revolution. But i...\n",
              "5556    The final installment sees Sho Aikawa and Riki...\n",
              "5557    I love this show. I watch all the reruns every...\n",
              "5558    This film stands as one of the most amazing ex...\n",
              "Name: text, Length: 5559, dtype: object"
            ]
          },
          "metadata": {},
          "execution_count": 6
        }
      ],
      "source": [
        "data.text"
      ]
    },
    {
      "cell_type": "code",
      "execution_count": null,
      "metadata": {
        "colab": {
          "base_uri": "https://localhost:8080/"
        },
        "id": "dWILVecoU6DP",
        "outputId": "475e3a3b-fa66-433b-a3a3-162b39a9c632"
      },
      "outputs": [
        {
          "output_type": "execute_result",
          "data": {
            "text/plain": [
              "0       0\n",
              "1       0\n",
              "2       0\n",
              "3       0\n",
              "4       1\n",
              "       ..\n",
              "5554    1\n",
              "5555    1\n",
              "5556    1\n",
              "5557    1\n",
              "5558    1\n",
              "Name: label, Length: 5559, dtype: int64"
            ]
          },
          "metadata": {},
          "execution_count": 7
        }
      ],
      "source": [
        "data.label"
      ]
    },
    {
      "cell_type": "code",
      "execution_count": null,
      "metadata": {
        "colab": {
          "base_uri": "https://localhost:8080/",
          "height": 123
        },
        "id": "ulNNvHo6U6hH",
        "outputId": "59e92244-adb3-4666-f960-cbcada105fe3"
      },
      "outputs": [
        {
          "output_type": "execute_result",
          "data": {
            "text/plain": [
              "\"When I put this movie in my DVD player, and sat down with a coke and some chips, I had some expectations. I was hoping that this movie would contain some of the strong-points of the first movie: Awsome animation, good flowing story, excellent voice cast, funny comedy and a kick-ass soundtrack. But, to my disappointment, not any of this is to be found in Atlantis: Milo's Return. Had I read some reviews first, I might not have been so let down. The following paragraph will be directed to those who have seen the first movie, and who enjoyed it primarily for the points mentioned.<br /><br />When the first scene appears, your in for a shock if you just picked Atlantis: Milo's Return from the display-case at your local videoshop (or whatever), and had the expectations I had. The music feels as a bad imitation of the first movie, and the voice cast has been replaced by a not so fitting one. (With the exception of a few characters, like the voice of Sweet). The actual drawings isnt that bad, but the animation in particular is a sad sight. The storyline is also pretty weak, as its more like three episodes of Schooby-Doo than the single adventurous story we got the last time. But dont misunderstand, it's not very good Schooby-Doo episodes. I didnt laugh a single time, although I might have sniggered once or twice.<br /><br />To the audience who haven't seen the first movie, or don't especially care for a similar sequel, here is a fast review of this movie as a stand-alone product: If you liked schooby-doo, you might like this movie. If you didn't, you could still enjoy this movie if you have nothing else to do. And I suspect it might be a good kids movie, but I wouldn't know. It might have been better if Milo's Return had been a three-episode series on a cartoon channel, or on breakfast TV.\""
            ],
            "application/vnd.google.colaboratory.intrinsic+json": {
              "type": "string"
            }
          },
          "metadata": {},
          "execution_count": 8
        }
      ],
      "source": [
        "data['text'][1]"
      ]
    },
    {
      "cell_type": "code",
      "execution_count": null,
      "metadata": {
        "id": "Gx7Xwsz7Vg-S"
      },
      "outputs": [],
      "source": [
        "from nltk.corpus import stopwords"
      ]
    },
    {
      "cell_type": "code",
      "execution_count": null,
      "metadata": {
        "id": "Mx4bqYGRU-OD"
      },
      "outputs": [],
      "source": [
        "#1. remove spaces,newlines\n",
        "def remove_spaces(data):\n",
        "    clean_text = data.replace('\\\\n',' ').replace('\\t',' ').replace('\\\\',' ')\n",
        "    return clean_text\n",
        "\n",
        "#2.contraction mapping\n",
        "def expand_text(data):\n",
        "    expanded_text = contractions.fix(data)\n",
        "    return expanded_text\n",
        "\n",
        "#3. handling accented characters\n",
        "def handling_accented(data):\n",
        "    fixed_text = unidecode(data)\n",
        "    return fixed_text\n",
        "\n",
        "\n",
        "\n",
        "def clean_data(data):\n",
        "    tokens = word_tokenize(data)\n",
        "    clean_text = [word.lower() for word in tokens if\n",
        "                  (word not in punctuation) and (word.lower()\n",
        "                  not in stopword_list) and (len(word)>2) and\n",
        "                  (word.isalpha())]\n",
        "    return clean_text\n",
        "\n",
        "# autocorrect\n",
        "def autocorrection(data):\n",
        "    spell = Speller(lang='en')\n",
        "    corrected_text = spell(data)\n",
        "    return corrected_text\n",
        "\n",
        "# lemmatization\n",
        "def lemmatization(data):\n",
        "    lemmatizer = WordNetLemmatizer()\n",
        "    final_data = []\n",
        "    for word in data:\n",
        "        lemmatized_word = lemmatizer.lemmatize(word)\n",
        "        final_data.append(lemmatized_word)\n",
        "    return ' '.join(final_data)\n"
      ]
    },
    {
      "cell_type": "code",
      "execution_count": null,
      "metadata": {
        "id": "VO9OuQnbV8BB"
      },
      "outputs": [],
      "source": [
        "import nltk\n"
      ]
    },
    {
      "cell_type": "code",
      "execution_count": null,
      "metadata": {
        "colab": {
          "base_uri": "https://localhost:8080/"
        },
        "id": "UznsT4NAWZCQ",
        "outputId": "2bf4579c-19ae-4428-cb08-3c3daea605e3"
      },
      "outputs": [
        {
          "output_type": "stream",
          "name": "stderr",
          "text": [
            "[nltk_data] Downloading package stopwords to /root/nltk_data...\n",
            "[nltk_data]   Unzipping corpora/stopwords.zip.\n"
          ]
        },
        {
          "output_type": "execute_result",
          "data": {
            "text/plain": [
              "True"
            ]
          },
          "metadata": {},
          "execution_count": 12
        }
      ],
      "source": [
        "from nltk.corpus import stopwords\n",
        "nltk.download('stopwords')"
      ]
    },
    {
      "cell_type": "code",
      "execution_count": null,
      "metadata": {
        "id": "kSC7Ih_dWNpt"
      },
      "outputs": [],
      "source": [
        "#4. Cleaning\n",
        "stopword_list = stopwords.words('english')\n",
        "stopword_list.remove('no')\n",
        "stopword_list.remove('nor')\n",
        "stopword_list.remove('not')"
      ]
    },
    {
      "cell_type": "code",
      "execution_count": null,
      "metadata": {
        "colab": {
          "base_uri": "https://localhost:8080/",
          "height": 123
        },
        "id": "8C2V6R5cVBzv",
        "outputId": "4ad84407-f30d-49b3-d742-ef20549a5c53"
      },
      "outputs": [
        {
          "output_type": "execute_result",
          "data": {
            "text/plain": [
              "\"When I put this movie in my DVD player, and sat down with a coke and some chips, I had some expectations. I was hoping that this movie would contain some of the strong-points of the first movie: Awsome animation, good flowing story, excellent voice cast, funny comedy and a kick-ass soundtrack. But, to my disappointment, not any of this is to be found in Atlantis: Milo's Return. Had I read some reviews first, I might not have been so let down. The following paragraph will be directed to those who have seen the first movie, and who enjoyed it primarily for the points mentioned.<br /><br />When the first scene appears, your in for a shock if you just picked Atlantis: Milo's Return from the display-case at your local videoshop (or whatever), and had the expectations I had. The music feels as a bad imitation of the first movie, and the voice cast has been replaced by a not so fitting one. (With the exception of a few characters, like the voice of Sweet). The actual drawings isnt that bad, but the animation in particular is a sad sight. The storyline is also pretty weak, as its more like three episodes of Schooby-Doo than the single adventurous story we got the last time. But dont misunderstand, it's not very good Schooby-Doo episodes. I didnt laugh a single time, although I might have sniggered once or twice.<br /><br />To the audience who haven't seen the first movie, or don't especially care for a similar sequel, here is a fast review of this movie as a stand-alone product: If you liked schooby-doo, you might like this movie. If you didn't, you could still enjoy this movie if you have nothing else to do. And I suspect it might be a good kids movie, but I wouldn't know. It might have been better if Milo's Return had been a three-episode series on a cartoon channel, or on breakfast TV.\""
            ],
            "application/vnd.google.colaboratory.intrinsic+json": {
              "type": "string"
            }
          },
          "metadata": {},
          "execution_count": 14
        }
      ],
      "source": [
        "def remove_spaces(data):\n",
        "    clean_text = data.replace('\\\\n',' ').replace('\\t',' ').replace('\\\\',' ')\n",
        "    return clean_text\n",
        "remove_spaces(data['text'][1])"
      ]
    },
    {
      "cell_type": "markdown",
      "metadata": {
        "id": "zYLOckD3aktu"
      },
      "source": [
        "Feature Scalling :text = numerical formate = vector\n",
        "    this process is know as = word emeading\n",
        "    1)Frequency based:- a)count vectorizer     \n",
        "                        b)tfidf  \n",
        "    2)Prediction Based:-a)word2vec\n",
        "                        b)fast text\n",
        "                        c)doc2vec"
      ]
    },
    {
      "cell_type": "code",
      "execution_count": null,
      "metadata": {
        "id": "RMyu9cPtap5k"
      },
      "outputs": [],
      "source": [
        "#  to aviod the data leakage\n",
        "x_train,x_test,y_train,y_test = train_test_split(data.text,data.label,test_size=0.25,random_state=42)"
      ]
    },
    {
      "cell_type": "code",
      "execution_count": null,
      "metadata": {
        "colab": {
          "base_uri": "https://localhost:8080/"
        },
        "id": "D41uxjArdgkZ",
        "outputId": "b1286033-095f-46a0-e259-0bbd53b1a208"
      },
      "outputs": [
        {
          "output_type": "stream",
          "name": "stderr",
          "text": [
            "[nltk_data] Downloading package punkt to /root/nltk_data...\n",
            "[nltk_data]   Unzipping tokenizers/punkt.zip.\n"
          ]
        },
        {
          "output_type": "execute_result",
          "data": {
            "text/plain": [
              "True"
            ]
          },
          "metadata": {},
          "execution_count": 16
        }
      ],
      "source": [
        "import nltk\n",
        "nltk.download('punkt')"
      ]
    },
    {
      "cell_type": "code",
      "execution_count": null,
      "metadata": {
        "colab": {
          "base_uri": "https://localhost:8080/"
        },
        "id": "CaeKRr-deMU3",
        "outputId": "e35d2187-b86d-4dc4-8f5f-883dee6d8c3e"
      },
      "outputs": [
        {
          "output_type": "stream",
          "name": "stderr",
          "text": [
            "[nltk_data] Downloading package wordnet to /root/nltk_data...\n"
          ]
        },
        {
          "output_type": "execute_result",
          "data": {
            "text/plain": [
              "True"
            ]
          },
          "metadata": {},
          "execution_count": 17
        }
      ],
      "source": [
        "import nltk\n",
        "nltk.download('wordnet')"
      ]
    },
    {
      "cell_type": "code",
      "execution_count": null,
      "metadata": {
        "id": "YNOAQF--dQbT"
      },
      "outputs": [],
      "source": [
        "clean_text_train = x_train.apply(remove_spaces)\n",
        "clean_text_test = x_test.apply(remove_spaces)\n",
        "\n",
        "clean_text_train = clean_text_train.apply(expand_text)\n",
        "clean_text_test = clean_text_test.apply(expand_text)\n",
        "\n",
        "clean_text_train = clean_text_train.apply(handling_accented)\n",
        "clean_text_test = clean_text_test.apply(handling_accented)\n",
        "\n",
        "clean_text_train = clean_text_train.apply(clean_data)\n",
        "clean_text_test = clean_text_test.apply(clean_data)\n",
        "\n",
        "clean_text_train = clean_text_train.apply(lemmatization)\n",
        "clean_text_test = clean_text_test.apply(lemmatization)"
      ]
    },
    {
      "cell_type": "code",
      "execution_count": null,
      "metadata": {
        "colab": {
          "base_uri": "https://localhost:8080/"
        },
        "id": "5FX7YTeNdW3e",
        "outputId": "0fac0ace-0b9b-4374-bf67-8fced5ce8952"
      },
      "outputs": [
        {
          "output_type": "execute_result",
          "data": {
            "text/plain": [
              "517     not know expect decided watch documentary knew...\n",
              "3971    pretty surprised see movie earned even lukewar...\n",
              "2083    early career abe lincoln beautifully presented...\n",
              "3789    original vanishing point great flick subtle mo...\n",
              "217     video audio meant someone hear sleep said morg...\n",
              "                              ...                        \n",
              "3772    lucky enough win free pass sneak preview pod l...\n",
              "5191    one horrible movie seen awhile wonder john bor...\n",
              "5226    remember terrible war movie grandmother forced...\n",
              "5390    woman never looked attractive pathetic salazar...\n",
              "860     one boot one point doctor assistant refers wor...\n",
              "Name: text, Length: 4169, dtype: object"
            ]
          },
          "metadata": {},
          "execution_count": 19
        }
      ],
      "source": [
        "clean_text_train"
      ]
    },
    {
      "cell_type": "code",
      "execution_count": null,
      "metadata": {
        "id": "Fdt114rLedAO"
      },
      "outputs": [],
      "source": [
        "# count vectorizer\n",
        "count = CountVectorizer(max_df=0.95,max_features=1000)\n",
        "count_val_train = count.fit_transform(clean_text_train)\n",
        "count_val_test = count.transform(clean_text_test)\n",
        "\n",
        "\n",
        "#count vecorizers out put is in the sparse matrix"
      ]
    },
    {
      "cell_type": "code",
      "execution_count": null,
      "metadata": {
        "colab": {
          "base_uri": "https://localhost:8080/"
        },
        "id": "PQM4OgIhehfz",
        "outputId": "a42b34cb-5d8e-4a0e-95f6-9d4055f18c77"
      },
      "outputs": [
        {
          "output_type": "execute_result",
          "data": {
            "text/plain": [
              "<4169x1000 sparse matrix of type '<class 'numpy.int64'>'\n",
              "\twith 227159 stored elements in Compressed Sparse Row format>"
            ]
          },
          "metadata": {},
          "execution_count": 24
        }
      ],
      "source": [
        "count_val_train\n",
        "#print(count_val_train)"
      ]
    },
    {
      "cell_type": "code",
      "execution_count": null,
      "metadata": {
        "colab": {
          "base_uri": "https://localhost:8080/"
        },
        "id": "uhISfyKsemrR",
        "outputId": "bc7047fa-5047-453a-e806-988402491ef0"
      },
      "outputs": [
        {
          "output_type": "execute_result",
          "data": {
            "text/plain": [
              "array([[0, 0, 0, ..., 0, 0, 0],\n",
              "       [0, 0, 0, ..., 0, 0, 0],\n",
              "       [0, 0, 0, ..., 0, 0, 0],\n",
              "       ...,\n",
              "       [0, 0, 0, ..., 0, 0, 0],\n",
              "       [0, 0, 0, ..., 0, 0, 0],\n",
              "       [0, 0, 0, ..., 0, 0, 0]])"
            ]
          },
          "metadata": {},
          "execution_count": 25
        }
      ],
      "source": [
        "count_val_train.A"
      ]
    },
    {
      "cell_type": "code",
      "execution_count": null,
      "metadata": {
        "colab": {
          "base_uri": "https://localhost:8080/"
        },
        "id": "ZdAlpHlZenFD",
        "outputId": "b037adb8-ef0d-4e44-d3c9-8d826ec14007"
      },
      "outputs": [
        {
          "output_type": "execute_result",
          "data": {
            "text/plain": [
              "array([[0, 0, 0, ..., 0, 0, 0],\n",
              "       [0, 0, 0, ..., 0, 0, 0],\n",
              "       [0, 0, 0, ..., 0, 0, 0],\n",
              "       ...,\n",
              "       [0, 0, 0, ..., 0, 0, 0],\n",
              "       [0, 0, 0, ..., 0, 0, 0],\n",
              "       [0, 0, 0, ..., 0, 0, 0]])"
            ]
          },
          "metadata": {},
          "execution_count": 26
        }
      ],
      "source": [
        "count_val_train.toarray()"
      ]
    },
    {
      "cell_type": "code",
      "execution_count": null,
      "metadata": {
        "id": "2L-hLm69kDE4"
      },
      "outputs": [],
      "source": [
        "from collections import Counter"
      ]
    },
    {
      "cell_type": "code",
      "execution_count": null,
      "metadata": {
        "colab": {
          "base_uri": "https://localhost:8080/"
        },
        "id": "iQSYnAnEenZd",
        "outputId": "be508a20-fe42-4b6d-d9f8-b599fa0ecd13"
      },
      "outputs": [
        {
          "output_type": "execute_result",
          "data": {
            "text/plain": [
              "array(['ability', 'able', 'absolutely', 'accent', 'across', 'act',\n",
              "       'acted', 'acting', 'action', 'actor', 'actress', 'actual',\n",
              "       'actually', 'add', 'added', 'admit', 'adult', 'adventure', 'age',\n",
              "       'ago', 'agree', 'air', 'alien', 'alive', 'almost', 'alone',\n",
              "       'along', 'already', 'also', 'although', 'always', 'amazing',\n",
              "       'america', 'american', 'among', 'amount', 'animal', 'animation',\n",
              "       'annoying', 'another', 'answer', 'anyone', 'anything', 'anyway',\n",
              "       'apart', 'apparently', 'appeal', 'appear', 'appearance', 'appears',\n",
              "       'around', 'art', 'aside', 'ask', 'aspect', 'atmosphere', 'attempt',\n",
              "       'attention', 'audience', 'average', 'avoid', 'award', 'away',\n",
              "       'awesome', 'awful', 'baby', 'back', 'background', 'bad', 'badly',\n",
              "       'band', 'barely', 'based', 'basic', 'basically', 'batman',\n",
              "       'battle', 'beautiful', 'beauty', 'became', 'become', 'becomes',\n",
              "       'bed', 'begin', 'beginning', 'behind', 'belief', 'believable',\n",
              "       'believe', 'best', 'better', 'beyond', 'big', 'biggest', 'bill',\n",
              "       'bit', 'bizarre', 'black', 'blood', 'blue', 'body', 'book',\n",
              "       'bored', 'boring', 'bottom', 'box', 'boy', 'brain', 'break',\n",
              "       'brilliant', 'bring', 'brings', 'british', 'brother', 'brought',\n",
              "       'bruce', 'budget', 'bunch', 'business', 'buy', 'call', 'called',\n",
              "       'came', 'camera', 'camp', 'car', 'care', 'career', 'cartoon',\n",
              "       'case', 'cast', 'casting', 'cat', 'catch', 'caught', 'century',\n",
              "       'certain', 'certainly', 'chance', 'change', 'changed', 'channel',\n",
              "       'character', 'charm', 'charming', 'chase', 'cheap', 'check',\n",
              "       'cheesy', 'child', 'choice', 'cinema', 'cinematography', 'city',\n",
              "       'class', 'classic', 'clear', 'clearly', 'clever', 'cliche',\n",
              "       'close', 'color', 'come', 'comedy', 'comic', 'coming', 'comment',\n",
              "       'common', 'company', 'compared', 'complete', 'completely',\n",
              "       'computer', 'concept', 'conclusion', 'considering', 'control',\n",
              "       'convincing', 'cool', 'cop', 'copy', 'costume', 'could', 'country',\n",
              "       'couple', 'course', 'cover', 'crap', 'crazy', 'create', 'created',\n",
              "       'creature', 'credit', 'creepy', 'crew', 'crime', 'critic', 'cry',\n",
              "       'culture', 'cut', 'cute', 'dance', 'dancing', 'dark', 'daughter',\n",
              "       'david', 'day', 'dead', 'deal', 'death', 'decent', 'decided',\n",
              "       'deep', 'definitely', 'depth', 'deserves', 'despite', 'detail',\n",
              "       'development', 'dialog', 'dialogue', 'die', 'died', 'different',\n",
              "       'difficult', 'directed', 'directing', 'direction', 'director',\n",
              "       'disappointed', 'disappointment', 'disney', 'disturbing', 'doctor',\n",
              "       'documentary', 'dog', 'done', 'doubt', 'drama', 'dramatic',\n",
              "       'dream', 'drug', 'due', 'dull', 'dumb', 'dvd', 'earlier', 'early',\n",
              "       'earth', 'easily', 'easy', 'editing', 'effect', 'effective',\n",
              "       'effort', 'either', 'element', 'else', 'emotion', 'emotional',\n",
              "       'end', 'ended', 'ending', 'english', 'enjoy', 'enjoyable',\n",
              "       'enjoyed', 'enough', 'entertaining', 'entertainment', 'entire',\n",
              "       'entirely', 'episode', 'era', 'escape', 'especially', 'etc',\n",
              "       'even', 'event', 'eventually', 'ever', 'every', 'everyone',\n",
              "       'everything', 'evil', 'exactly', 'example', 'excellent', 'except',\n",
              "       'exception', 'exciting', 'excuse', 'expect', 'expectation',\n",
              "       'expected', 'expecting', 'experience', 'extra', 'extremely', 'eye',\n",
              "       'face', 'fact', 'fails', 'fairly', 'fall', 'familiar', 'family',\n",
              "       'famous', 'fan', 'fantastic', 'fantasy', 'far', 'fashion', 'fast',\n",
              "       'father', 'favorite', 'fear', 'feature', 'feel', 'feeling', 'felt',\n",
              "       'female', 'festival', 'fiction', 'fight', 'fighting', 'figure',\n",
              "       'filled', 'film', 'filmed', 'filming', 'filmmaker', 'final',\n",
              "       'finally', 'find', 'fine', 'fire', 'first', 'fit', 'five', 'flat',\n",
              "       'flaw', 'flick', 'focus', 'follow', 'following', 'footage',\n",
              "       'force', 'forced', 'forget', 'form', 'former', 'forward', 'found',\n",
              "       'four', 'free', 'french', 'friend', 'front', 'full', 'fun',\n",
              "       'funny', 'future', 'game', 'garbage', 'gave', 'gay', 'general',\n",
              "       'genius', 'genre', 'george', 'german', 'get', 'getting', 'ghost',\n",
              "       'giant', 'girl', 'give', 'given', 'giving', 'go', 'god', 'going',\n",
              "       'gone', 'good', 'gore', 'got', 'government', 'great', 'greatest',\n",
              "       'group', 'guess', 'gun', 'guy', 'hair', 'half', 'hand', 'happen',\n",
              "       'happened', 'happens', 'happy', 'hard', 'hate', 'head', 'hear',\n",
              "       'heard', 'heart', 'hell', 'help', 'hero', 'high', 'highly',\n",
              "       'hilarious', 'history', 'hit', 'hold', 'hole', 'hollywood', 'home',\n",
              "       'honest', 'honestly', 'hope', 'horrible', 'horror', 'hospital',\n",
              "       'hot', 'hour', 'house', 'however', 'huge', 'human', 'humor',\n",
              "       'humour', 'hurt', 'husband', 'idea', 'image', 'imagine', 'imdb',\n",
              "       'immediately', 'important', 'impossible', 'impressive',\n",
              "       'including', 'incredibly', 'indeed', 'indian', 'inside', 'instead',\n",
              "       'interest', 'interested', 'interesting', 'involved', 'involving',\n",
              "       'island', 'issue', 'jack', 'james', 'japanese', 'job', 'john',\n",
              "       'joke', 'keep', 'kelly', 'kept', 'kid', 'kill', 'killed', 'killer',\n",
              "       'killing', 'kind', 'king', 'knew', 'know', 'known', 'lack', 'lady',\n",
              "       'lame', 'land', 'language', 'large', 'last', 'late', 'later',\n",
              "       'laugh', 'laughing', 'le', 'lead', 'leading', 'leaf', 'learn',\n",
              "       'least', 'leave', 'leaving', 'lee', 'left', 'let', 'level', 'lie',\n",
              "       'life', 'light', 'like', 'liked', 'line', 'list', 'literally',\n",
              "       'little', 'live', 'living', 'local', 'location', 'long', 'look',\n",
              "       'looked', 'looking', 'lost', 'lot', 'love', 'loved', 'lover',\n",
              "       'low', 'machine', 'made', 'main', 'major', 'make', 'maker',\n",
              "       'making', 'male', 'man', 'manages', 'many', 'mark', 'married',\n",
              "       'masterpiece', 'match', 'material', 'matter', 'may', 'maybe',\n",
              "       'mean', 'meant', 'meet', 'member', 'memorable', 'memory', 'men',\n",
              "       'mention', 'mentioned', 'mess', 'message', 'michael', 'middle',\n",
              "       'might', 'million', 'mind', 'minute', 'miss', 'missed', 'missing',\n",
              "       'mistake', 'modern', 'moment', 'money', 'monster', 'month', 'mood',\n",
              "       'moral', 'mostly', 'mother', 'move', 'movie', 'moving', 'much',\n",
              "       'murder', 'music', 'musical', 'must', 'mystery', 'naked', 'name',\n",
              "       'named', 'narrative', 'nature', 'near', 'nearly', 'need', 'needed',\n",
              "       'neither', 'never', 'new', 'next', 'nice', 'night', 'nobody',\n",
              "       'none', 'nor', 'normal', 'not', 'note', 'nothing', 'novel',\n",
              "       'nowhere', 'nudity', 'number', 'obvious', 'obviously', 'odd',\n",
              "       'offer', 'office', 'often', 'okay', 'old', 'older', 'one', 'open',\n",
              "       'opening', 'opinion', 'opportunity', 'order', 'original', 'oscar',\n",
              "       'others', 'otherwise', 'outside', 'overall', 'pace', 'parent',\n",
              "       'park', 'part', 'particular', 'particularly', 'party', 'past',\n",
              "       'pathetic', 'paul', 'pay', 'people', 'perfect', 'perfectly',\n",
              "       'performance', 'perhaps', 'period', 'person', 'personal',\n",
              "       'personality', 'peter', 'pick', 'picture', 'piece', 'place',\n",
              "       'plain', 'plan', 'play', 'played', 'player', 'playing', 'please',\n",
              "       'plenty', 'plot', 'plus', 'point', 'police', 'political', 'poor',\n",
              "       'poorly', 'popular', 'portrayal', 'portrayed', 'possible',\n",
              "       'possibly', 'potential', 'power', 'powerful', 'predictable',\n",
              "       'premise', 'present', 'pretty', 'previous', 'prison', 'probably',\n",
              "       'problem', 'producer', 'production', 'project', 'pull', 'pure',\n",
              "       'purpose', 'put', 'quality', 'question', 'quickly', 'quite',\n",
              "       'rate', 'rather', 'rating', 'read', 'reading', 'real', 'realistic',\n",
              "       'reality', 'realize', 'really', 'reason', 'recently', 'recommend',\n",
              "       'red', 'reference', 'relationship', 'release', 'released',\n",
              "       'remake', 'remember', 'rent', 'respect', 'rest', 'result',\n",
              "       'return', 'revenge', 'review', 'rich', 'richard', 'ride',\n",
              "       'ridiculous', 'right', 'ring', 'road', 'robert', 'rock', 'role',\n",
              "       'romance', 'romantic', 'room', 'run', 'running', 'sad', 'sadly',\n",
              "       'said', 'save', 'saw', 'say', 'saying', 'scary', 'scene', 'school',\n",
              "       'science', 'score', 'scott', 'scream', 'screen', 'screenplay',\n",
              "       'script', 'season', 'second', 'secret', 'see', 'seeing', 'seem',\n",
              "       'seemed', 'seems', 'seen', 'sense', 'sequel', 'sequence', 'series',\n",
              "       'serious', 'seriously', 'set', 'setting', 'several', 'sex',\n",
              "       'sexual', 'shame', 'ship', 'shoot', 'shooting', 'short', 'shot',\n",
              "       'show', 'showing', 'shown', 'side', 'silly', 'similar', 'simple',\n",
              "       'simply', 'since', 'singing', 'single', 'sister', 'sit',\n",
              "       'situation', 'slow', 'small', 'social', 'society', 'soldier',\n",
              "       'solid', 'somehow', 'someone', 'something', 'sometimes',\n",
              "       'somewhat', 'son', 'song', 'soon', 'sorry', 'sort', 'soul',\n",
              "       'sound', 'soundtrack', 'space', 'speak', 'special', 'spent',\n",
              "       'spirit', 'spoiler', 'spot', 'stage', 'stand', 'standard', 'star',\n",
              "       'start', 'started', 'state', 'stay', 'stick', 'still', 'stop',\n",
              "       'store', 'story', 'storyline', 'straight', 'strange', 'street',\n",
              "       'strong', 'struggle', 'student', 'studio', 'stuff', 'stupid',\n",
              "       'style', 'subject', 'subtle', 'success', 'successful', 'suck',\n",
              "       'suddenly', 'superb', 'supporting', 'supposed', 'sure', 'surprise',\n",
              "       'surprised', 'suspense', 'take', 'taken', 'taking', 'tale',\n",
              "       'talent', 'talented', 'talk', 'talking', 'taste', 'team', 'teen',\n",
              "       'teenager', 'television', 'tell', 'telling', 'ten', 'term',\n",
              "       'terrible', 'thanks', 'theater', 'theme', 'thing', 'think',\n",
              "       'thinking', 'third', 'though', 'thought', 'three', 'thriller',\n",
              "       'throughout', 'throw', 'time', 'title', 'today', 'together',\n",
              "       'told', 'tom', 'tone', 'took', 'top', 'total', 'totally', 'touch',\n",
              "       'touching', 'towards', 'town', 'track', 'trailer', 'train',\n",
              "       'tried', 'trouble', 'true', 'truly', 'truth', 'try', 'trying',\n",
              "       'turn', 'turned', 'twist', 'two', 'type', 'typical', 'ultimately',\n",
              "       'understand', 'unfortunately', 'unique', 'unless', 'unlike',\n",
              "       'upon', 'use', 'used', 'using', 'usual', 'usually', 'value',\n",
              "       'vampire', 'van', 'various', 'version', 'victim', 'video', 'view',\n",
              "       'viewer', 'viewing', 'villain', 'violence', 'visual', 'voice',\n",
              "       'wait', 'waiting', 'walk', 'want', 'wanted', 'war', 'waste',\n",
              "       'wasted', 'watch', 'watched', 'watching', 'water', 'way', 'weak',\n",
              "       'week', 'weird', 'well', 'went', 'western', 'whatever', 'whether',\n",
              "       'white', 'whole', 'whose', 'wife', 'william', 'win', 'wish',\n",
              "       'within', 'without', 'woman', 'wonder', 'wonderful', 'wood',\n",
              "       'word', 'work', 'worked', 'working', 'world', 'worse', 'worst',\n",
              "       'worth', 'would', 'write', 'writer', 'writing', 'written', 'wrong',\n",
              "       'wrote', 'yeah', 'year', 'yes', 'yet', 'york', 'young', 'younger',\n",
              "       'zombie'], dtype=object)"
            ]
          },
          "metadata": {},
          "execution_count": 28
        }
      ],
      "source": [
        "#count.get_feature_names()\n",
        "count.get_feature_names_out()"
      ]
    },
    {
      "cell_type": "code",
      "execution_count": null,
      "metadata": {
        "id": "RNrx-6CWkBtx"
      },
      "outputs": [],
      "source": []
    },
    {
      "cell_type": "code",
      "execution_count": null,
      "metadata": {
        "colab": {
          "base_uri": "https://localhost:8080/"
        },
        "id": "LqvVziNpenrn",
        "outputId": "dbe2e7ee-1d1f-4a01-a060-630553508749"
      },
      "outputs": [
        {
          "output_type": "execute_result",
          "data": {
            "text/plain": [
              "1000"
            ]
          },
          "metadata": {},
          "execution_count": 29
        }
      ],
      "source": [
        "len(count.get_feature_names_out())"
      ]
    },
    {
      "cell_type": "code",
      "execution_count": null,
      "metadata": {
        "colab": {
          "base_uri": "https://localhost:8080/",
          "height": 423
        },
        "id": "8aQBjleuetwx",
        "outputId": "938508f1-a628-49a6-8bfa-6728c081b7b5"
      },
      "outputs": [
        {
          "output_type": "execute_result",
          "data": {
            "text/plain": [
              "      ability  able  absolutely  accent  across  act  acted  acting  action  \\\n",
              "0           0     0           0       0       0    0      0       0       0   \n",
              "1           0     0           0       0       0    0      0       0       0   \n",
              "2           0     0           0       0       0    0      0       0       0   \n",
              "3           0     0           0       0       0    0      0       0       0   \n",
              "4           0     0           0       0       0    0      0       0       0   \n",
              "...       ...   ...         ...     ...     ...  ...    ...     ...     ...   \n",
              "4164        0     0           1       0       0    0      0       0       0   \n",
              "4165        0     0           0       0       0    0      0       0       0   \n",
              "4166        0     0           0       0       0    0      0       0       0   \n",
              "4167        0     0           0       0       0    1      0       0       0   \n",
              "4168        0     0           0       0       0    0      0       1       0   \n",
              "\n",
              "      actor  ...  wrong  wrote  yeah  year  yes  yet  york  young  younger  \\\n",
              "0         0  ...      0      0     0     1    0    0     0      0        0   \n",
              "1         0  ...      0      0     0     0    0    0     0      0        0   \n",
              "2         0  ...      0      0     0     0    0    0     0      0        0   \n",
              "3         0  ...      0      0     0     0    0    0     0      0        0   \n",
              "4         0  ...      0      0     0     0    0    0     0      0        0   \n",
              "...     ...  ...    ...    ...   ...   ...  ...  ...   ...    ...      ...   \n",
              "4164      0  ...      0      0     0     0    0    0     0      0        0   \n",
              "4165      0  ...      0      0     0     0    0    0     0      0        0   \n",
              "4166      0  ...      0      0     0     1    0    0     0      0        0   \n",
              "4167      0  ...      0      0     0     0    0    0     0      0        0   \n",
              "4168      0  ...      1      0     0     0    0    0     0      0        0   \n",
              "\n",
              "      zombie  \n",
              "0          0  \n",
              "1          0  \n",
              "2          0  \n",
              "3          0  \n",
              "4          0  \n",
              "...      ...  \n",
              "4164       0  \n",
              "4165       0  \n",
              "4166       0  \n",
              "4167       0  \n",
              "4168       0  \n",
              "\n",
              "[4169 rows x 1000 columns]"
            ],
            "text/html": [
              "\n",
              "  <div id=\"df-f768e552-a99c-4641-99af-f19e35876d0c\" class=\"colab-df-container\">\n",
              "    <div>\n",
              "<style scoped>\n",
              "    .dataframe tbody tr th:only-of-type {\n",
              "        vertical-align: middle;\n",
              "    }\n",
              "\n",
              "    .dataframe tbody tr th {\n",
              "        vertical-align: top;\n",
              "    }\n",
              "\n",
              "    .dataframe thead th {\n",
              "        text-align: right;\n",
              "    }\n",
              "</style>\n",
              "<table border=\"1\" class=\"dataframe\">\n",
              "  <thead>\n",
              "    <tr style=\"text-align: right;\">\n",
              "      <th></th>\n",
              "      <th>ability</th>\n",
              "      <th>able</th>\n",
              "      <th>absolutely</th>\n",
              "      <th>accent</th>\n",
              "      <th>across</th>\n",
              "      <th>act</th>\n",
              "      <th>acted</th>\n",
              "      <th>acting</th>\n",
              "      <th>action</th>\n",
              "      <th>actor</th>\n",
              "      <th>...</th>\n",
              "      <th>wrong</th>\n",
              "      <th>wrote</th>\n",
              "      <th>yeah</th>\n",
              "      <th>year</th>\n",
              "      <th>yes</th>\n",
              "      <th>yet</th>\n",
              "      <th>york</th>\n",
              "      <th>young</th>\n",
              "      <th>younger</th>\n",
              "      <th>zombie</th>\n",
              "    </tr>\n",
              "  </thead>\n",
              "  <tbody>\n",
              "    <tr>\n",
              "      <th>0</th>\n",
              "      <td>0</td>\n",
              "      <td>0</td>\n",
              "      <td>0</td>\n",
              "      <td>0</td>\n",
              "      <td>0</td>\n",
              "      <td>0</td>\n",
              "      <td>0</td>\n",
              "      <td>0</td>\n",
              "      <td>0</td>\n",
              "      <td>0</td>\n",
              "      <td>...</td>\n",
              "      <td>0</td>\n",
              "      <td>0</td>\n",
              "      <td>0</td>\n",
              "      <td>1</td>\n",
              "      <td>0</td>\n",
              "      <td>0</td>\n",
              "      <td>0</td>\n",
              "      <td>0</td>\n",
              "      <td>0</td>\n",
              "      <td>0</td>\n",
              "    </tr>\n",
              "    <tr>\n",
              "      <th>1</th>\n",
              "      <td>0</td>\n",
              "      <td>0</td>\n",
              "      <td>0</td>\n",
              "      <td>0</td>\n",
              "      <td>0</td>\n",
              "      <td>0</td>\n",
              "      <td>0</td>\n",
              "      <td>0</td>\n",
              "      <td>0</td>\n",
              "      <td>0</td>\n",
              "      <td>...</td>\n",
              "      <td>0</td>\n",
              "      <td>0</td>\n",
              "      <td>0</td>\n",
              "      <td>0</td>\n",
              "      <td>0</td>\n",
              "      <td>0</td>\n",
              "      <td>0</td>\n",
              "      <td>0</td>\n",
              "      <td>0</td>\n",
              "      <td>0</td>\n",
              "    </tr>\n",
              "    <tr>\n",
              "      <th>2</th>\n",
              "      <td>0</td>\n",
              "      <td>0</td>\n",
              "      <td>0</td>\n",
              "      <td>0</td>\n",
              "      <td>0</td>\n",
              "      <td>0</td>\n",
              "      <td>0</td>\n",
              "      <td>0</td>\n",
              "      <td>0</td>\n",
              "      <td>0</td>\n",
              "      <td>...</td>\n",
              "      <td>0</td>\n",
              "      <td>0</td>\n",
              "      <td>0</td>\n",
              "      <td>0</td>\n",
              "      <td>0</td>\n",
              "      <td>0</td>\n",
              "      <td>0</td>\n",
              "      <td>0</td>\n",
              "      <td>0</td>\n",
              "      <td>0</td>\n",
              "    </tr>\n",
              "    <tr>\n",
              "      <th>3</th>\n",
              "      <td>0</td>\n",
              "      <td>0</td>\n",
              "      <td>0</td>\n",
              "      <td>0</td>\n",
              "      <td>0</td>\n",
              "      <td>0</td>\n",
              "      <td>0</td>\n",
              "      <td>0</td>\n",
              "      <td>0</td>\n",
              "      <td>0</td>\n",
              "      <td>...</td>\n",
              "      <td>0</td>\n",
              "      <td>0</td>\n",
              "      <td>0</td>\n",
              "      <td>0</td>\n",
              "      <td>0</td>\n",
              "      <td>0</td>\n",
              "      <td>0</td>\n",
              "      <td>0</td>\n",
              "      <td>0</td>\n",
              "      <td>0</td>\n",
              "    </tr>\n",
              "    <tr>\n",
              "      <th>4</th>\n",
              "      <td>0</td>\n",
              "      <td>0</td>\n",
              "      <td>0</td>\n",
              "      <td>0</td>\n",
              "      <td>0</td>\n",
              "      <td>0</td>\n",
              "      <td>0</td>\n",
              "      <td>0</td>\n",
              "      <td>0</td>\n",
              "      <td>0</td>\n",
              "      <td>...</td>\n",
              "      <td>0</td>\n",
              "      <td>0</td>\n",
              "      <td>0</td>\n",
              "      <td>0</td>\n",
              "      <td>0</td>\n",
              "      <td>0</td>\n",
              "      <td>0</td>\n",
              "      <td>0</td>\n",
              "      <td>0</td>\n",
              "      <td>0</td>\n",
              "    </tr>\n",
              "    <tr>\n",
              "      <th>...</th>\n",
              "      <td>...</td>\n",
              "      <td>...</td>\n",
              "      <td>...</td>\n",
              "      <td>...</td>\n",
              "      <td>...</td>\n",
              "      <td>...</td>\n",
              "      <td>...</td>\n",
              "      <td>...</td>\n",
              "      <td>...</td>\n",
              "      <td>...</td>\n",
              "      <td>...</td>\n",
              "      <td>...</td>\n",
              "      <td>...</td>\n",
              "      <td>...</td>\n",
              "      <td>...</td>\n",
              "      <td>...</td>\n",
              "      <td>...</td>\n",
              "      <td>...</td>\n",
              "      <td>...</td>\n",
              "      <td>...</td>\n",
              "      <td>...</td>\n",
              "    </tr>\n",
              "    <tr>\n",
              "      <th>4164</th>\n",
              "      <td>0</td>\n",
              "      <td>0</td>\n",
              "      <td>1</td>\n",
              "      <td>0</td>\n",
              "      <td>0</td>\n",
              "      <td>0</td>\n",
              "      <td>0</td>\n",
              "      <td>0</td>\n",
              "      <td>0</td>\n",
              "      <td>0</td>\n",
              "      <td>...</td>\n",
              "      <td>0</td>\n",
              "      <td>0</td>\n",
              "      <td>0</td>\n",
              "      <td>0</td>\n",
              "      <td>0</td>\n",
              "      <td>0</td>\n",
              "      <td>0</td>\n",
              "      <td>0</td>\n",
              "      <td>0</td>\n",
              "      <td>0</td>\n",
              "    </tr>\n",
              "    <tr>\n",
              "      <th>4165</th>\n",
              "      <td>0</td>\n",
              "      <td>0</td>\n",
              "      <td>0</td>\n",
              "      <td>0</td>\n",
              "      <td>0</td>\n",
              "      <td>0</td>\n",
              "      <td>0</td>\n",
              "      <td>0</td>\n",
              "      <td>0</td>\n",
              "      <td>0</td>\n",
              "      <td>...</td>\n",
              "      <td>0</td>\n",
              "      <td>0</td>\n",
              "      <td>0</td>\n",
              "      <td>0</td>\n",
              "      <td>0</td>\n",
              "      <td>0</td>\n",
              "      <td>0</td>\n",
              "      <td>0</td>\n",
              "      <td>0</td>\n",
              "      <td>0</td>\n",
              "    </tr>\n",
              "    <tr>\n",
              "      <th>4166</th>\n",
              "      <td>0</td>\n",
              "      <td>0</td>\n",
              "      <td>0</td>\n",
              "      <td>0</td>\n",
              "      <td>0</td>\n",
              "      <td>0</td>\n",
              "      <td>0</td>\n",
              "      <td>0</td>\n",
              "      <td>0</td>\n",
              "      <td>0</td>\n",
              "      <td>...</td>\n",
              "      <td>0</td>\n",
              "      <td>0</td>\n",
              "      <td>0</td>\n",
              "      <td>1</td>\n",
              "      <td>0</td>\n",
              "      <td>0</td>\n",
              "      <td>0</td>\n",
              "      <td>0</td>\n",
              "      <td>0</td>\n",
              "      <td>0</td>\n",
              "    </tr>\n",
              "    <tr>\n",
              "      <th>4167</th>\n",
              "      <td>0</td>\n",
              "      <td>0</td>\n",
              "      <td>0</td>\n",
              "      <td>0</td>\n",
              "      <td>0</td>\n",
              "      <td>1</td>\n",
              "      <td>0</td>\n",
              "      <td>0</td>\n",
              "      <td>0</td>\n",
              "      <td>0</td>\n",
              "      <td>...</td>\n",
              "      <td>0</td>\n",
              "      <td>0</td>\n",
              "      <td>0</td>\n",
              "      <td>0</td>\n",
              "      <td>0</td>\n",
              "      <td>0</td>\n",
              "      <td>0</td>\n",
              "      <td>0</td>\n",
              "      <td>0</td>\n",
              "      <td>0</td>\n",
              "    </tr>\n",
              "    <tr>\n",
              "      <th>4168</th>\n",
              "      <td>0</td>\n",
              "      <td>0</td>\n",
              "      <td>0</td>\n",
              "      <td>0</td>\n",
              "      <td>0</td>\n",
              "      <td>0</td>\n",
              "      <td>0</td>\n",
              "      <td>1</td>\n",
              "      <td>0</td>\n",
              "      <td>0</td>\n",
              "      <td>...</td>\n",
              "      <td>1</td>\n",
              "      <td>0</td>\n",
              "      <td>0</td>\n",
              "      <td>0</td>\n",
              "      <td>0</td>\n",
              "      <td>0</td>\n",
              "      <td>0</td>\n",
              "      <td>0</td>\n",
              "      <td>0</td>\n",
              "      <td>0</td>\n",
              "    </tr>\n",
              "  </tbody>\n",
              "</table>\n",
              "<p>4169 rows × 1000 columns</p>\n",
              "</div>\n",
              "    <div class=\"colab-df-buttons\">\n",
              "\n",
              "  <div class=\"colab-df-container\">\n",
              "    <button class=\"colab-df-convert\" onclick=\"convertToInteractive('df-f768e552-a99c-4641-99af-f19e35876d0c')\"\n",
              "            title=\"Convert this dataframe to an interactive table.\"\n",
              "            style=\"display:none;\">\n",
              "\n",
              "  <svg xmlns=\"http://www.w3.org/2000/svg\" height=\"24px\" viewBox=\"0 -960 960 960\">\n",
              "    <path d=\"M120-120v-720h720v720H120Zm60-500h600v-160H180v160Zm220 220h160v-160H400v160Zm0 220h160v-160H400v160ZM180-400h160v-160H180v160Zm440 0h160v-160H620v160ZM180-180h160v-160H180v160Zm440 0h160v-160H620v160Z\"/>\n",
              "  </svg>\n",
              "    </button>\n",
              "\n",
              "  <style>\n",
              "    .colab-df-container {\n",
              "      display:flex;\n",
              "      gap: 12px;\n",
              "    }\n",
              "\n",
              "    .colab-df-convert {\n",
              "      background-color: #E8F0FE;\n",
              "      border: none;\n",
              "      border-radius: 50%;\n",
              "      cursor: pointer;\n",
              "      display: none;\n",
              "      fill: #1967D2;\n",
              "      height: 32px;\n",
              "      padding: 0 0 0 0;\n",
              "      width: 32px;\n",
              "    }\n",
              "\n",
              "    .colab-df-convert:hover {\n",
              "      background-color: #E2EBFA;\n",
              "      box-shadow: 0px 1px 2px rgba(60, 64, 67, 0.3), 0px 1px 3px 1px rgba(60, 64, 67, 0.15);\n",
              "      fill: #174EA6;\n",
              "    }\n",
              "\n",
              "    .colab-df-buttons div {\n",
              "      margin-bottom: 4px;\n",
              "    }\n",
              "\n",
              "    [theme=dark] .colab-df-convert {\n",
              "      background-color: #3B4455;\n",
              "      fill: #D2E3FC;\n",
              "    }\n",
              "\n",
              "    [theme=dark] .colab-df-convert:hover {\n",
              "      background-color: #434B5C;\n",
              "      box-shadow: 0px 1px 3px 1px rgba(0, 0, 0, 0.15);\n",
              "      filter: drop-shadow(0px 1px 2px rgba(0, 0, 0, 0.3));\n",
              "      fill: #FFFFFF;\n",
              "    }\n",
              "  </style>\n",
              "\n",
              "    <script>\n",
              "      const buttonEl =\n",
              "        document.querySelector('#df-f768e552-a99c-4641-99af-f19e35876d0c button.colab-df-convert');\n",
              "      buttonEl.style.display =\n",
              "        google.colab.kernel.accessAllowed ? 'block' : 'none';\n",
              "\n",
              "      async function convertToInteractive(key) {\n",
              "        const element = document.querySelector('#df-f768e552-a99c-4641-99af-f19e35876d0c');\n",
              "        const dataTable =\n",
              "          await google.colab.kernel.invokeFunction('convertToInteractive',\n",
              "                                                    [key], {});\n",
              "        if (!dataTable) return;\n",
              "\n",
              "        const docLinkHtml = 'Like what you see? Visit the ' +\n",
              "          '<a target=\"_blank\" href=https://colab.research.google.com/notebooks/data_table.ipynb>data table notebook</a>'\n",
              "          + ' to learn more about interactive tables.';\n",
              "        element.innerHTML = '';\n",
              "        dataTable['output_type'] = 'display_data';\n",
              "        await google.colab.output.renderOutput(dataTable, element);\n",
              "        const docLink = document.createElement('div');\n",
              "        docLink.innerHTML = docLinkHtml;\n",
              "        element.appendChild(docLink);\n",
              "      }\n",
              "    </script>\n",
              "  </div>\n",
              "\n",
              "\n",
              "<div id=\"df-5dd91a1e-396f-43e5-9146-faa1bb5a6766\">\n",
              "  <button class=\"colab-df-quickchart\" onclick=\"quickchart('df-5dd91a1e-396f-43e5-9146-faa1bb5a6766')\"\n",
              "            title=\"Suggest charts\"\n",
              "            style=\"display:none;\">\n",
              "\n",
              "<svg xmlns=\"http://www.w3.org/2000/svg\" height=\"24px\"viewBox=\"0 0 24 24\"\n",
              "     width=\"24px\">\n",
              "    <g>\n",
              "        <path d=\"M19 3H5c-1.1 0-2 .9-2 2v14c0 1.1.9 2 2 2h14c1.1 0 2-.9 2-2V5c0-1.1-.9-2-2-2zM9 17H7v-7h2v7zm4 0h-2V7h2v10zm4 0h-2v-4h2v4z\"/>\n",
              "    </g>\n",
              "</svg>\n",
              "  </button>\n",
              "\n",
              "<style>\n",
              "  .colab-df-quickchart {\n",
              "      --bg-color: #E8F0FE;\n",
              "      --fill-color: #1967D2;\n",
              "      --hover-bg-color: #E2EBFA;\n",
              "      --hover-fill-color: #174EA6;\n",
              "      --disabled-fill-color: #AAA;\n",
              "      --disabled-bg-color: #DDD;\n",
              "  }\n",
              "\n",
              "  [theme=dark] .colab-df-quickchart {\n",
              "      --bg-color: #3B4455;\n",
              "      --fill-color: #D2E3FC;\n",
              "      --hover-bg-color: #434B5C;\n",
              "      --hover-fill-color: #FFFFFF;\n",
              "      --disabled-bg-color: #3B4455;\n",
              "      --disabled-fill-color: #666;\n",
              "  }\n",
              "\n",
              "  .colab-df-quickchart {\n",
              "    background-color: var(--bg-color);\n",
              "    border: none;\n",
              "    border-radius: 50%;\n",
              "    cursor: pointer;\n",
              "    display: none;\n",
              "    fill: var(--fill-color);\n",
              "    height: 32px;\n",
              "    padding: 0;\n",
              "    width: 32px;\n",
              "  }\n",
              "\n",
              "  .colab-df-quickchart:hover {\n",
              "    background-color: var(--hover-bg-color);\n",
              "    box-shadow: 0 1px 2px rgba(60, 64, 67, 0.3), 0 1px 3px 1px rgba(60, 64, 67, 0.15);\n",
              "    fill: var(--button-hover-fill-color);\n",
              "  }\n",
              "\n",
              "  .colab-df-quickchart-complete:disabled,\n",
              "  .colab-df-quickchart-complete:disabled:hover {\n",
              "    background-color: var(--disabled-bg-color);\n",
              "    fill: var(--disabled-fill-color);\n",
              "    box-shadow: none;\n",
              "  }\n",
              "\n",
              "  .colab-df-spinner {\n",
              "    border: 2px solid var(--fill-color);\n",
              "    border-color: transparent;\n",
              "    border-bottom-color: var(--fill-color);\n",
              "    animation:\n",
              "      spin 1s steps(1) infinite;\n",
              "  }\n",
              "\n",
              "  @keyframes spin {\n",
              "    0% {\n",
              "      border-color: transparent;\n",
              "      border-bottom-color: var(--fill-color);\n",
              "      border-left-color: var(--fill-color);\n",
              "    }\n",
              "    20% {\n",
              "      border-color: transparent;\n",
              "      border-left-color: var(--fill-color);\n",
              "      border-top-color: var(--fill-color);\n",
              "    }\n",
              "    30% {\n",
              "      border-color: transparent;\n",
              "      border-left-color: var(--fill-color);\n",
              "      border-top-color: var(--fill-color);\n",
              "      border-right-color: var(--fill-color);\n",
              "    }\n",
              "    40% {\n",
              "      border-color: transparent;\n",
              "      border-right-color: var(--fill-color);\n",
              "      border-top-color: var(--fill-color);\n",
              "    }\n",
              "    60% {\n",
              "      border-color: transparent;\n",
              "      border-right-color: var(--fill-color);\n",
              "    }\n",
              "    80% {\n",
              "      border-color: transparent;\n",
              "      border-right-color: var(--fill-color);\n",
              "      border-bottom-color: var(--fill-color);\n",
              "    }\n",
              "    90% {\n",
              "      border-color: transparent;\n",
              "      border-bottom-color: var(--fill-color);\n",
              "    }\n",
              "  }\n",
              "</style>\n",
              "\n",
              "  <script>\n",
              "    async function quickchart(key) {\n",
              "      const quickchartButtonEl =\n",
              "        document.querySelector('#' + key + ' button');\n",
              "      quickchartButtonEl.disabled = true;  // To prevent multiple clicks.\n",
              "      quickchartButtonEl.classList.add('colab-df-spinner');\n",
              "      try {\n",
              "        const charts = await google.colab.kernel.invokeFunction(\n",
              "            'suggestCharts', [key], {});\n",
              "      } catch (error) {\n",
              "        console.error('Error during call to suggestCharts:', error);\n",
              "      }\n",
              "      quickchartButtonEl.classList.remove('colab-df-spinner');\n",
              "      quickchartButtonEl.classList.add('colab-df-quickchart-complete');\n",
              "    }\n",
              "    (() => {\n",
              "      let quickchartButtonEl =\n",
              "        document.querySelector('#df-5dd91a1e-396f-43e5-9146-faa1bb5a6766 button');\n",
              "      quickchartButtonEl.style.display =\n",
              "        google.colab.kernel.accessAllowed ? 'block' : 'none';\n",
              "    })();\n",
              "  </script>\n",
              "</div>\n",
              "\n",
              "    </div>\n",
              "  </div>\n"
            ]
          },
          "metadata": {},
          "execution_count": 30
        }
      ],
      "source": [
        "pd.DataFrame(count_val_train.A,columns=count.get_feature_names_out())"
      ]
    },
    {
      "cell_type": "code",
      "execution_count": null,
      "metadata": {
        "colab": {
          "base_uri": "https://localhost:8080/"
        },
        "id": "Xe3hPyNGev_N",
        "outputId": "3fe25ea5-bb1c-454c-9ad0-e213ee1ce7e5"
      },
      "outputs": [
        {
          "output_type": "execute_result",
          "data": {
            "text/plain": [
              "81.58273381294964"
            ]
          },
          "metadata": {},
          "execution_count": 31
        }
      ],
      "source": [
        "# build model\n",
        "count_mnb = MultinomialNB()\n",
        "count_mnb.fit(count_val_train.A,y_train)\n",
        "predict_count = count_mnb.predict(count_val_test.A)\n",
        "accuracy_count = accuracy_score(y_test,predict_count)*100\n",
        "accuracy_count"
      ]
    },
    {
      "cell_type": "code",
      "execution_count": null,
      "metadata": {
        "id": "9tvhl8P2e1HY"
      },
      "outputs": [],
      "source": [
        "tfidf = TfidfVectorizer(max_df=0.95,max_features=1000)\n",
        "tfidf_train = tfidf.fit_transform(clean_text_train)\n",
        "tfidf_test = tfidf.transform(clean_text_test)"
      ]
    },
    {
      "cell_type": "code",
      "execution_count": null,
      "metadata": {
        "colab": {
          "base_uri": "https://localhost:8080/"
        },
        "id": "ZgpsNSw5e1bG",
        "outputId": "b8d6117d-bf42-4bd1-c79f-9293c49bb89c"
      },
      "outputs": [
        {
          "output_type": "execute_result",
          "data": {
            "text/plain": [
              "<4169x1000 sparse matrix of type '<class 'numpy.float64'>'\n",
              "\twith 227159 stored elements in Compressed Sparse Row format>"
            ]
          },
          "metadata": {},
          "execution_count": 33
        }
      ],
      "source": [
        "tfidf_train"
      ]
    },
    {
      "cell_type": "code",
      "execution_count": null,
      "metadata": {
        "colab": {
          "base_uri": "https://localhost:8080/"
        },
        "id": "sal5T3offuBF",
        "outputId": "5ca56023-b494-42a3-9d40-a61a78a66322"
      },
      "outputs": [
        {
          "output_type": "execute_result",
          "data": {
            "text/plain": [
              "array([[0., 0., 0., ..., 0., 0., 0.],\n",
              "       [0., 0., 0., ..., 0., 0., 0.],\n",
              "       [0., 0., 0., ..., 0., 0., 0.],\n",
              "       ...,\n",
              "       [0., 0., 0., ..., 0., 0., 0.],\n",
              "       [0., 0., 0., ..., 0., 0., 0.],\n",
              "       [0., 0., 0., ..., 0., 0., 0.]])"
            ]
          },
          "metadata": {},
          "execution_count": 34
        }
      ],
      "source": [
        "tfidf_train.A"
      ]
    },
    {
      "cell_type": "code",
      "execution_count": null,
      "metadata": {
        "colab": {
          "base_uri": "https://localhost:8080/"
        },
        "id": "k_uV4L1Qfujj",
        "outputId": "895403ea-60f2-47d9-bc42-f573445b6cee"
      },
      "outputs": [
        {
          "output_type": "execute_result",
          "data": {
            "text/plain": [
              "array([[0., 0., 0., ..., 0., 0., 0.],\n",
              "       [0., 0., 0., ..., 0., 0., 0.],\n",
              "       [0., 0., 0., ..., 0., 0., 0.],\n",
              "       ...,\n",
              "       [0., 0., 0., ..., 0., 0., 0.],\n",
              "       [0., 0., 0., ..., 0., 0., 0.],\n",
              "       [0., 0., 0., ..., 0., 0., 0.]])"
            ]
          },
          "metadata": {},
          "execution_count": 35
        }
      ],
      "source": [
        "tfidf_train.toarray()"
      ]
    },
    {
      "cell_type": "code",
      "execution_count": null,
      "metadata": {
        "colab": {
          "base_uri": "https://localhost:8080/"
        },
        "id": "GPFvI-qWfuzA",
        "outputId": "3e9abf01-d447-4809-c11b-fab36a69414a"
      },
      "outputs": [
        {
          "output_type": "execute_result",
          "data": {
            "text/plain": [
              "array(['ability', 'able', 'absolutely', 'accent', 'across', 'act',\n",
              "       'acted', 'acting', 'action', 'actor', 'actress', 'actual',\n",
              "       'actually', 'add', 'added', 'admit', 'adult', 'adventure', 'age',\n",
              "       'ago', 'agree', 'air', 'alien', 'alive', 'almost', 'alone',\n",
              "       'along', 'already', 'also', 'although', 'always', 'amazing',\n",
              "       'america', 'american', 'among', 'amount', 'animal', 'animation',\n",
              "       'annoying', 'another', 'answer', 'anyone', 'anything', 'anyway',\n",
              "       'apart', 'apparently', 'appeal', 'appear', 'appearance', 'appears',\n",
              "       'around', 'art', 'aside', 'ask', 'aspect', 'atmosphere', 'attempt',\n",
              "       'attention', 'audience', 'average', 'avoid', 'award', 'away',\n",
              "       'awesome', 'awful', 'baby', 'back', 'background', 'bad', 'badly',\n",
              "       'band', 'barely', 'based', 'basic', 'basically', 'batman',\n",
              "       'battle', 'beautiful', 'beauty', 'became', 'become', 'becomes',\n",
              "       'bed', 'begin', 'beginning', 'behind', 'belief', 'believable',\n",
              "       'believe', 'best', 'better', 'beyond', 'big', 'biggest', 'bill',\n",
              "       'bit', 'bizarre', 'black', 'blood', 'blue', 'body', 'book',\n",
              "       'bored', 'boring', 'bottom', 'box', 'boy', 'brain', 'break',\n",
              "       'brilliant', 'bring', 'brings', 'british', 'brother', 'brought',\n",
              "       'bruce', 'budget', 'bunch', 'business', 'buy', 'call', 'called',\n",
              "       'came', 'camera', 'camp', 'car', 'care', 'career', 'cartoon',\n",
              "       'case', 'cast', 'casting', 'cat', 'catch', 'caught', 'century',\n",
              "       'certain', 'certainly', 'chance', 'change', 'changed', 'channel',\n",
              "       'character', 'charm', 'charming', 'chase', 'cheap', 'check',\n",
              "       'cheesy', 'child', 'choice', 'cinema', 'cinematography', 'city',\n",
              "       'class', 'classic', 'clear', 'clearly', 'clever', 'cliche',\n",
              "       'close', 'color', 'come', 'comedy', 'comic', 'coming', 'comment',\n",
              "       'common', 'company', 'compared', 'complete', 'completely',\n",
              "       'computer', 'concept', 'conclusion', 'considering', 'control',\n",
              "       'convincing', 'cool', 'cop', 'copy', 'costume', 'could', 'country',\n",
              "       'couple', 'course', 'cover', 'crap', 'crazy', 'create', 'created',\n",
              "       'creature', 'credit', 'creepy', 'crew', 'crime', 'critic', 'cry',\n",
              "       'culture', 'cut', 'cute', 'dance', 'dancing', 'dark', 'daughter',\n",
              "       'david', 'day', 'dead', 'deal', 'death', 'decent', 'decided',\n",
              "       'deep', 'definitely', 'depth', 'deserves', 'despite', 'detail',\n",
              "       'development', 'dialog', 'dialogue', 'die', 'died', 'different',\n",
              "       'difficult', 'directed', 'directing', 'direction', 'director',\n",
              "       'disappointed', 'disappointment', 'disney', 'disturbing', 'doctor',\n",
              "       'documentary', 'dog', 'done', 'doubt', 'drama', 'dramatic',\n",
              "       'dream', 'drug', 'due', 'dull', 'dumb', 'dvd', 'earlier', 'early',\n",
              "       'earth', 'easily', 'easy', 'editing', 'effect', 'effective',\n",
              "       'effort', 'either', 'element', 'else', 'emotion', 'emotional',\n",
              "       'end', 'ended', 'ending', 'english', 'enjoy', 'enjoyable',\n",
              "       'enjoyed', 'enough', 'entertaining', 'entertainment', 'entire',\n",
              "       'entirely', 'episode', 'era', 'escape', 'especially', 'etc',\n",
              "       'even', 'event', 'eventually', 'ever', 'every', 'everyone',\n",
              "       'everything', 'evil', 'exactly', 'example', 'excellent', 'except',\n",
              "       'exception', 'exciting', 'excuse', 'expect', 'expectation',\n",
              "       'expected', 'expecting', 'experience', 'extra', 'extremely', 'eye',\n",
              "       'face', 'fact', 'fails', 'fairly', 'fall', 'familiar', 'family',\n",
              "       'famous', 'fan', 'fantastic', 'fantasy', 'far', 'fashion', 'fast',\n",
              "       'father', 'favorite', 'fear', 'feature', 'feel', 'feeling', 'felt',\n",
              "       'female', 'festival', 'fiction', 'fight', 'fighting', 'figure',\n",
              "       'filled', 'film', 'filmed', 'filming', 'filmmaker', 'final',\n",
              "       'finally', 'find', 'fine', 'fire', 'first', 'fit', 'five', 'flat',\n",
              "       'flaw', 'flick', 'focus', 'follow', 'following', 'footage',\n",
              "       'force', 'forced', 'forget', 'form', 'former', 'forward', 'found',\n",
              "       'four', 'free', 'french', 'friend', 'front', 'full', 'fun',\n",
              "       'funny', 'future', 'game', 'garbage', 'gave', 'gay', 'general',\n",
              "       'genius', 'genre', 'george', 'german', 'get', 'getting', 'ghost',\n",
              "       'giant', 'girl', 'give', 'given', 'giving', 'go', 'god', 'going',\n",
              "       'gone', 'good', 'gore', 'got', 'government', 'great', 'greatest',\n",
              "       'group', 'guess', 'gun', 'guy', 'hair', 'half', 'hand', 'happen',\n",
              "       'happened', 'happens', 'happy', 'hard', 'hate', 'head', 'hear',\n",
              "       'heard', 'heart', 'hell', 'help', 'hero', 'high', 'highly',\n",
              "       'hilarious', 'history', 'hit', 'hold', 'hole', 'hollywood', 'home',\n",
              "       'honest', 'honestly', 'hope', 'horrible', 'horror', 'hospital',\n",
              "       'hot', 'hour', 'house', 'however', 'huge', 'human', 'humor',\n",
              "       'humour', 'hurt', 'husband', 'idea', 'image', 'imagine', 'imdb',\n",
              "       'immediately', 'important', 'impossible', 'impressive',\n",
              "       'including', 'incredibly', 'indeed', 'indian', 'inside', 'instead',\n",
              "       'interest', 'interested', 'interesting', 'involved', 'involving',\n",
              "       'island', 'issue', 'jack', 'james', 'japanese', 'job', 'john',\n",
              "       'joke', 'keep', 'kelly', 'kept', 'kid', 'kill', 'killed', 'killer',\n",
              "       'killing', 'kind', 'king', 'knew', 'know', 'known', 'lack', 'lady',\n",
              "       'lame', 'land', 'language', 'large', 'last', 'late', 'later',\n",
              "       'laugh', 'laughing', 'le', 'lead', 'leading', 'leaf', 'learn',\n",
              "       'least', 'leave', 'leaving', 'lee', 'left', 'let', 'level', 'lie',\n",
              "       'life', 'light', 'like', 'liked', 'line', 'list', 'literally',\n",
              "       'little', 'live', 'living', 'local', 'location', 'long', 'look',\n",
              "       'looked', 'looking', 'lost', 'lot', 'love', 'loved', 'lover',\n",
              "       'low', 'machine', 'made', 'main', 'major', 'make', 'maker',\n",
              "       'making', 'male', 'man', 'manages', 'many', 'mark', 'married',\n",
              "       'masterpiece', 'match', 'material', 'matter', 'may', 'maybe',\n",
              "       'mean', 'meant', 'meet', 'member', 'memorable', 'memory', 'men',\n",
              "       'mention', 'mentioned', 'mess', 'message', 'michael', 'middle',\n",
              "       'might', 'million', 'mind', 'minute', 'miss', 'missed', 'missing',\n",
              "       'mistake', 'modern', 'moment', 'money', 'monster', 'month', 'mood',\n",
              "       'moral', 'mostly', 'mother', 'move', 'movie', 'moving', 'much',\n",
              "       'murder', 'music', 'musical', 'must', 'mystery', 'naked', 'name',\n",
              "       'named', 'narrative', 'nature', 'near', 'nearly', 'need', 'needed',\n",
              "       'neither', 'never', 'new', 'next', 'nice', 'night', 'nobody',\n",
              "       'none', 'nor', 'normal', 'not', 'note', 'nothing', 'novel',\n",
              "       'nowhere', 'nudity', 'number', 'obvious', 'obviously', 'odd',\n",
              "       'offer', 'office', 'often', 'okay', 'old', 'older', 'one', 'open',\n",
              "       'opening', 'opinion', 'opportunity', 'order', 'original', 'oscar',\n",
              "       'others', 'otherwise', 'outside', 'overall', 'pace', 'parent',\n",
              "       'park', 'part', 'particular', 'particularly', 'party', 'past',\n",
              "       'pathetic', 'paul', 'pay', 'people', 'perfect', 'perfectly',\n",
              "       'performance', 'perhaps', 'period', 'person', 'personal',\n",
              "       'personality', 'peter', 'pick', 'picture', 'piece', 'place',\n",
              "       'plain', 'plan', 'play', 'played', 'player', 'playing', 'please',\n",
              "       'plenty', 'plot', 'plus', 'point', 'police', 'political', 'poor',\n",
              "       'poorly', 'popular', 'portrayal', 'portrayed', 'possible',\n",
              "       'possibly', 'potential', 'power', 'powerful', 'predictable',\n",
              "       'premise', 'present', 'pretty', 'previous', 'prison', 'probably',\n",
              "       'problem', 'producer', 'production', 'project', 'pull', 'pure',\n",
              "       'purpose', 'put', 'quality', 'question', 'quickly', 'quite',\n",
              "       'rate', 'rather', 'rating', 'read', 'reading', 'real', 'realistic',\n",
              "       'reality', 'realize', 'really', 'reason', 'recently', 'recommend',\n",
              "       'red', 'reference', 'relationship', 'release', 'released',\n",
              "       'remake', 'remember', 'rent', 'respect', 'rest', 'result',\n",
              "       'return', 'revenge', 'review', 'rich', 'richard', 'ride',\n",
              "       'ridiculous', 'right', 'ring', 'road', 'robert', 'rock', 'role',\n",
              "       'romance', 'romantic', 'room', 'run', 'running', 'sad', 'sadly',\n",
              "       'said', 'save', 'saw', 'say', 'saying', 'scary', 'scene', 'school',\n",
              "       'science', 'score', 'scott', 'scream', 'screen', 'screenplay',\n",
              "       'script', 'season', 'second', 'secret', 'see', 'seeing', 'seem',\n",
              "       'seemed', 'seems', 'seen', 'sense', 'sequel', 'sequence', 'series',\n",
              "       'serious', 'seriously', 'set', 'setting', 'several', 'sex',\n",
              "       'sexual', 'shame', 'ship', 'shoot', 'shooting', 'short', 'shot',\n",
              "       'show', 'showing', 'shown', 'side', 'silly', 'similar', 'simple',\n",
              "       'simply', 'since', 'singing', 'single', 'sister', 'sit',\n",
              "       'situation', 'slow', 'small', 'social', 'society', 'soldier',\n",
              "       'solid', 'somehow', 'someone', 'something', 'sometimes',\n",
              "       'somewhat', 'son', 'song', 'soon', 'sorry', 'sort', 'soul',\n",
              "       'sound', 'soundtrack', 'space', 'speak', 'special', 'spent',\n",
              "       'spirit', 'spoiler', 'spot', 'stage', 'stand', 'standard', 'star',\n",
              "       'start', 'started', 'state', 'stay', 'stick', 'still', 'stop',\n",
              "       'store', 'story', 'storyline', 'straight', 'strange', 'street',\n",
              "       'strong', 'struggle', 'student', 'studio', 'stuff', 'stupid',\n",
              "       'style', 'subject', 'subtle', 'success', 'successful', 'suck',\n",
              "       'suddenly', 'superb', 'supporting', 'supposed', 'sure', 'surprise',\n",
              "       'surprised', 'suspense', 'take', 'taken', 'taking', 'tale',\n",
              "       'talent', 'talented', 'talk', 'talking', 'taste', 'team', 'teen',\n",
              "       'teenager', 'television', 'tell', 'telling', 'ten', 'term',\n",
              "       'terrible', 'thanks', 'theater', 'theme', 'thing', 'think',\n",
              "       'thinking', 'third', 'though', 'thought', 'three', 'thriller',\n",
              "       'throughout', 'throw', 'time', 'title', 'today', 'together',\n",
              "       'told', 'tom', 'tone', 'took', 'top', 'total', 'totally', 'touch',\n",
              "       'touching', 'towards', 'town', 'track', 'trailer', 'train',\n",
              "       'tried', 'trouble', 'true', 'truly', 'truth', 'try', 'trying',\n",
              "       'turn', 'turned', 'twist', 'two', 'type', 'typical', 'ultimately',\n",
              "       'understand', 'unfortunately', 'unique', 'unless', 'unlike',\n",
              "       'upon', 'use', 'used', 'using', 'usual', 'usually', 'value',\n",
              "       'vampire', 'van', 'various', 'version', 'victim', 'video', 'view',\n",
              "       'viewer', 'viewing', 'villain', 'violence', 'visual', 'voice',\n",
              "       'wait', 'waiting', 'walk', 'want', 'wanted', 'war', 'waste',\n",
              "       'wasted', 'watch', 'watched', 'watching', 'water', 'way', 'weak',\n",
              "       'week', 'weird', 'well', 'went', 'western', 'whatever', 'whether',\n",
              "       'white', 'whole', 'whose', 'wife', 'william', 'win', 'wish',\n",
              "       'within', 'without', 'woman', 'wonder', 'wonderful', 'wood',\n",
              "       'word', 'work', 'worked', 'working', 'world', 'worse', 'worst',\n",
              "       'worth', 'would', 'write', 'writer', 'writing', 'written', 'wrong',\n",
              "       'wrote', 'yeah', 'year', 'yes', 'yet', 'york', 'young', 'younger',\n",
              "       'zombie'], dtype=object)"
            ]
          },
          "metadata": {},
          "execution_count": 36
        }
      ],
      "source": [
        "tfidf.get_feature_names_out()"
      ]
    },
    {
      "cell_type": "code",
      "execution_count": null,
      "metadata": {
        "colab": {
          "base_uri": "https://localhost:8080/"
        },
        "id": "23bpQAF2fvBB",
        "outputId": "9ab24210-8381-4200-c533-0f85719c5ed4"
      },
      "outputs": [
        {
          "output_type": "execute_result",
          "data": {
            "text/plain": [
              "1000"
            ]
          },
          "metadata": {},
          "execution_count": 37
        }
      ],
      "source": [
        "len(tfidf.get_feature_names_out())"
      ]
    },
    {
      "cell_type": "code",
      "execution_count": null,
      "metadata": {
        "colab": {
          "base_uri": "https://localhost:8080/",
          "height": 423
        },
        "id": "HY-Znlr3f2eC",
        "outputId": "c87e7c7c-6014-4fa1-934c-060093d2b119"
      },
      "outputs": [
        {
          "output_type": "execute_result",
          "data": {
            "text/plain": [
              "      ability  able  absolutely  accent  across       act  acted    acting  \\\n",
              "0         0.0   0.0    0.000000     0.0     0.0  0.000000    0.0  0.000000   \n",
              "1         0.0   0.0    0.000000     0.0     0.0  0.000000    0.0  0.000000   \n",
              "2         0.0   0.0    0.000000     0.0     0.0  0.000000    0.0  0.000000   \n",
              "3         0.0   0.0    0.000000     0.0     0.0  0.000000    0.0  0.000000   \n",
              "4         0.0   0.0    0.000000     0.0     0.0  0.000000    0.0  0.000000   \n",
              "...       ...   ...         ...     ...     ...       ...    ...       ...   \n",
              "4164      0.0   0.0    0.119503     0.0     0.0  0.000000    0.0  0.000000   \n",
              "4165      0.0   0.0    0.000000     0.0     0.0  0.000000    0.0  0.000000   \n",
              "4166      0.0   0.0    0.000000     0.0     0.0  0.000000    0.0  0.000000   \n",
              "4167      0.0   0.0    0.000000     0.0     0.0  0.094638    0.0  0.000000   \n",
              "4168      0.0   0.0    0.000000     0.0     0.0  0.000000    0.0  0.050628   \n",
              "\n",
              "      action  actor  ...     wrong  wrote  yeah      year  yes  yet  york  \\\n",
              "0        0.0    0.0  ...  0.000000    0.0   0.0  0.082750  0.0  0.0   0.0   \n",
              "1        0.0    0.0  ...  0.000000    0.0   0.0  0.000000  0.0  0.0   0.0   \n",
              "2        0.0    0.0  ...  0.000000    0.0   0.0  0.000000  0.0  0.0   0.0   \n",
              "3        0.0    0.0  ...  0.000000    0.0   0.0  0.000000  0.0  0.0   0.0   \n",
              "4        0.0    0.0  ...  0.000000    0.0   0.0  0.000000  0.0  0.0   0.0   \n",
              "...      ...    ...  ...       ...    ...   ...       ...  ...  ...   ...   \n",
              "4164     0.0    0.0  ...  0.000000    0.0   0.0  0.000000  0.0  0.0   0.0   \n",
              "4165     0.0    0.0  ...  0.000000    0.0   0.0  0.000000  0.0  0.0   0.0   \n",
              "4166     0.0    0.0  ...  0.000000    0.0   0.0  0.090661  0.0  0.0   0.0   \n",
              "4167     0.0    0.0  ...  0.000000    0.0   0.0  0.000000  0.0  0.0   0.0   \n",
              "4168     0.0    0.0  ...  0.076785    0.0   0.0  0.000000  0.0  0.0   0.0   \n",
              "\n",
              "      young  younger  zombie  \n",
              "0       0.0      0.0     0.0  \n",
              "1       0.0      0.0     0.0  \n",
              "2       0.0      0.0     0.0  \n",
              "3       0.0      0.0     0.0  \n",
              "4       0.0      0.0     0.0  \n",
              "...     ...      ...     ...  \n",
              "4164    0.0      0.0     0.0  \n",
              "4165    0.0      0.0     0.0  \n",
              "4166    0.0      0.0     0.0  \n",
              "4167    0.0      0.0     0.0  \n",
              "4168    0.0      0.0     0.0  \n",
              "\n",
              "[4169 rows x 1000 columns]"
            ],
            "text/html": [
              "\n",
              "  <div id=\"df-c586598c-779b-44be-a873-a6c6a1dcc1fc\" class=\"colab-df-container\">\n",
              "    <div>\n",
              "<style scoped>\n",
              "    .dataframe tbody tr th:only-of-type {\n",
              "        vertical-align: middle;\n",
              "    }\n",
              "\n",
              "    .dataframe tbody tr th {\n",
              "        vertical-align: top;\n",
              "    }\n",
              "\n",
              "    .dataframe thead th {\n",
              "        text-align: right;\n",
              "    }\n",
              "</style>\n",
              "<table border=\"1\" class=\"dataframe\">\n",
              "  <thead>\n",
              "    <tr style=\"text-align: right;\">\n",
              "      <th></th>\n",
              "      <th>ability</th>\n",
              "      <th>able</th>\n",
              "      <th>absolutely</th>\n",
              "      <th>accent</th>\n",
              "      <th>across</th>\n",
              "      <th>act</th>\n",
              "      <th>acted</th>\n",
              "      <th>acting</th>\n",
              "      <th>action</th>\n",
              "      <th>actor</th>\n",
              "      <th>...</th>\n",
              "      <th>wrong</th>\n",
              "      <th>wrote</th>\n",
              "      <th>yeah</th>\n",
              "      <th>year</th>\n",
              "      <th>yes</th>\n",
              "      <th>yet</th>\n",
              "      <th>york</th>\n",
              "      <th>young</th>\n",
              "      <th>younger</th>\n",
              "      <th>zombie</th>\n",
              "    </tr>\n",
              "  </thead>\n",
              "  <tbody>\n",
              "    <tr>\n",
              "      <th>0</th>\n",
              "      <td>0.0</td>\n",
              "      <td>0.0</td>\n",
              "      <td>0.000000</td>\n",
              "      <td>0.0</td>\n",
              "      <td>0.0</td>\n",
              "      <td>0.000000</td>\n",
              "      <td>0.0</td>\n",
              "      <td>0.000000</td>\n",
              "      <td>0.0</td>\n",
              "      <td>0.0</td>\n",
              "      <td>...</td>\n",
              "      <td>0.000000</td>\n",
              "      <td>0.0</td>\n",
              "      <td>0.0</td>\n",
              "      <td>0.082750</td>\n",
              "      <td>0.0</td>\n",
              "      <td>0.0</td>\n",
              "      <td>0.0</td>\n",
              "      <td>0.0</td>\n",
              "      <td>0.0</td>\n",
              "      <td>0.0</td>\n",
              "    </tr>\n",
              "    <tr>\n",
              "      <th>1</th>\n",
              "      <td>0.0</td>\n",
              "      <td>0.0</td>\n",
              "      <td>0.000000</td>\n",
              "      <td>0.0</td>\n",
              "      <td>0.0</td>\n",
              "      <td>0.000000</td>\n",
              "      <td>0.0</td>\n",
              "      <td>0.000000</td>\n",
              "      <td>0.0</td>\n",
              "      <td>0.0</td>\n",
              "      <td>...</td>\n",
              "      <td>0.000000</td>\n",
              "      <td>0.0</td>\n",
              "      <td>0.0</td>\n",
              "      <td>0.000000</td>\n",
              "      <td>0.0</td>\n",
              "      <td>0.0</td>\n",
              "      <td>0.0</td>\n",
              "      <td>0.0</td>\n",
              "      <td>0.0</td>\n",
              "      <td>0.0</td>\n",
              "    </tr>\n",
              "    <tr>\n",
              "      <th>2</th>\n",
              "      <td>0.0</td>\n",
              "      <td>0.0</td>\n",
              "      <td>0.000000</td>\n",
              "      <td>0.0</td>\n",
              "      <td>0.0</td>\n",
              "      <td>0.000000</td>\n",
              "      <td>0.0</td>\n",
              "      <td>0.000000</td>\n",
              "      <td>0.0</td>\n",
              "      <td>0.0</td>\n",
              "      <td>...</td>\n",
              "      <td>0.000000</td>\n",
              "      <td>0.0</td>\n",
              "      <td>0.0</td>\n",
              "      <td>0.000000</td>\n",
              "      <td>0.0</td>\n",
              "      <td>0.0</td>\n",
              "      <td>0.0</td>\n",
              "      <td>0.0</td>\n",
              "      <td>0.0</td>\n",
              "      <td>0.0</td>\n",
              "    </tr>\n",
              "    <tr>\n",
              "      <th>3</th>\n",
              "      <td>0.0</td>\n",
              "      <td>0.0</td>\n",
              "      <td>0.000000</td>\n",
              "      <td>0.0</td>\n",
              "      <td>0.0</td>\n",
              "      <td>0.000000</td>\n",
              "      <td>0.0</td>\n",
              "      <td>0.000000</td>\n",
              "      <td>0.0</td>\n",
              "      <td>0.0</td>\n",
              "      <td>...</td>\n",
              "      <td>0.000000</td>\n",
              "      <td>0.0</td>\n",
              "      <td>0.0</td>\n",
              "      <td>0.000000</td>\n",
              "      <td>0.0</td>\n",
              "      <td>0.0</td>\n",
              "      <td>0.0</td>\n",
              "      <td>0.0</td>\n",
              "      <td>0.0</td>\n",
              "      <td>0.0</td>\n",
              "    </tr>\n",
              "    <tr>\n",
              "      <th>4</th>\n",
              "      <td>0.0</td>\n",
              "      <td>0.0</td>\n",
              "      <td>0.000000</td>\n",
              "      <td>0.0</td>\n",
              "      <td>0.0</td>\n",
              "      <td>0.000000</td>\n",
              "      <td>0.0</td>\n",
              "      <td>0.000000</td>\n",
              "      <td>0.0</td>\n",
              "      <td>0.0</td>\n",
              "      <td>...</td>\n",
              "      <td>0.000000</td>\n",
              "      <td>0.0</td>\n",
              "      <td>0.0</td>\n",
              "      <td>0.000000</td>\n",
              "      <td>0.0</td>\n",
              "      <td>0.0</td>\n",
              "      <td>0.0</td>\n",
              "      <td>0.0</td>\n",
              "      <td>0.0</td>\n",
              "      <td>0.0</td>\n",
              "    </tr>\n",
              "    <tr>\n",
              "      <th>...</th>\n",
              "      <td>...</td>\n",
              "      <td>...</td>\n",
              "      <td>...</td>\n",
              "      <td>...</td>\n",
              "      <td>...</td>\n",
              "      <td>...</td>\n",
              "      <td>...</td>\n",
              "      <td>...</td>\n",
              "      <td>...</td>\n",
              "      <td>...</td>\n",
              "      <td>...</td>\n",
              "      <td>...</td>\n",
              "      <td>...</td>\n",
              "      <td>...</td>\n",
              "      <td>...</td>\n",
              "      <td>...</td>\n",
              "      <td>...</td>\n",
              "      <td>...</td>\n",
              "      <td>...</td>\n",
              "      <td>...</td>\n",
              "      <td>...</td>\n",
              "    </tr>\n",
              "    <tr>\n",
              "      <th>4164</th>\n",
              "      <td>0.0</td>\n",
              "      <td>0.0</td>\n",
              "      <td>0.119503</td>\n",
              "      <td>0.0</td>\n",
              "      <td>0.0</td>\n",
              "      <td>0.000000</td>\n",
              "      <td>0.0</td>\n",
              "      <td>0.000000</td>\n",
              "      <td>0.0</td>\n",
              "      <td>0.0</td>\n",
              "      <td>...</td>\n",
              "      <td>0.000000</td>\n",
              "      <td>0.0</td>\n",
              "      <td>0.0</td>\n",
              "      <td>0.000000</td>\n",
              "      <td>0.0</td>\n",
              "      <td>0.0</td>\n",
              "      <td>0.0</td>\n",
              "      <td>0.0</td>\n",
              "      <td>0.0</td>\n",
              "      <td>0.0</td>\n",
              "    </tr>\n",
              "    <tr>\n",
              "      <th>4165</th>\n",
              "      <td>0.0</td>\n",
              "      <td>0.0</td>\n",
              "      <td>0.000000</td>\n",
              "      <td>0.0</td>\n",
              "      <td>0.0</td>\n",
              "      <td>0.000000</td>\n",
              "      <td>0.0</td>\n",
              "      <td>0.000000</td>\n",
              "      <td>0.0</td>\n",
              "      <td>0.0</td>\n",
              "      <td>...</td>\n",
              "      <td>0.000000</td>\n",
              "      <td>0.0</td>\n",
              "      <td>0.0</td>\n",
              "      <td>0.000000</td>\n",
              "      <td>0.0</td>\n",
              "      <td>0.0</td>\n",
              "      <td>0.0</td>\n",
              "      <td>0.0</td>\n",
              "      <td>0.0</td>\n",
              "      <td>0.0</td>\n",
              "    </tr>\n",
              "    <tr>\n",
              "      <th>4166</th>\n",
              "      <td>0.0</td>\n",
              "      <td>0.0</td>\n",
              "      <td>0.000000</td>\n",
              "      <td>0.0</td>\n",
              "      <td>0.0</td>\n",
              "      <td>0.000000</td>\n",
              "      <td>0.0</td>\n",
              "      <td>0.000000</td>\n",
              "      <td>0.0</td>\n",
              "      <td>0.0</td>\n",
              "      <td>...</td>\n",
              "      <td>0.000000</td>\n",
              "      <td>0.0</td>\n",
              "      <td>0.0</td>\n",
              "      <td>0.090661</td>\n",
              "      <td>0.0</td>\n",
              "      <td>0.0</td>\n",
              "      <td>0.0</td>\n",
              "      <td>0.0</td>\n",
              "      <td>0.0</td>\n",
              "      <td>0.0</td>\n",
              "    </tr>\n",
              "    <tr>\n",
              "      <th>4167</th>\n",
              "      <td>0.0</td>\n",
              "      <td>0.0</td>\n",
              "      <td>0.000000</td>\n",
              "      <td>0.0</td>\n",
              "      <td>0.0</td>\n",
              "      <td>0.094638</td>\n",
              "      <td>0.0</td>\n",
              "      <td>0.000000</td>\n",
              "      <td>0.0</td>\n",
              "      <td>0.0</td>\n",
              "      <td>...</td>\n",
              "      <td>0.000000</td>\n",
              "      <td>0.0</td>\n",
              "      <td>0.0</td>\n",
              "      <td>0.000000</td>\n",
              "      <td>0.0</td>\n",
              "      <td>0.0</td>\n",
              "      <td>0.0</td>\n",
              "      <td>0.0</td>\n",
              "      <td>0.0</td>\n",
              "      <td>0.0</td>\n",
              "    </tr>\n",
              "    <tr>\n",
              "      <th>4168</th>\n",
              "      <td>0.0</td>\n",
              "      <td>0.0</td>\n",
              "      <td>0.000000</td>\n",
              "      <td>0.0</td>\n",
              "      <td>0.0</td>\n",
              "      <td>0.000000</td>\n",
              "      <td>0.0</td>\n",
              "      <td>0.050628</td>\n",
              "      <td>0.0</td>\n",
              "      <td>0.0</td>\n",
              "      <td>...</td>\n",
              "      <td>0.076785</td>\n",
              "      <td>0.0</td>\n",
              "      <td>0.0</td>\n",
              "      <td>0.000000</td>\n",
              "      <td>0.0</td>\n",
              "      <td>0.0</td>\n",
              "      <td>0.0</td>\n",
              "      <td>0.0</td>\n",
              "      <td>0.0</td>\n",
              "      <td>0.0</td>\n",
              "    </tr>\n",
              "  </tbody>\n",
              "</table>\n",
              "<p>4169 rows × 1000 columns</p>\n",
              "</div>\n",
              "    <div class=\"colab-df-buttons\">\n",
              "\n",
              "  <div class=\"colab-df-container\">\n",
              "    <button class=\"colab-df-convert\" onclick=\"convertToInteractive('df-c586598c-779b-44be-a873-a6c6a1dcc1fc')\"\n",
              "            title=\"Convert this dataframe to an interactive table.\"\n",
              "            style=\"display:none;\">\n",
              "\n",
              "  <svg xmlns=\"http://www.w3.org/2000/svg\" height=\"24px\" viewBox=\"0 -960 960 960\">\n",
              "    <path d=\"M120-120v-720h720v720H120Zm60-500h600v-160H180v160Zm220 220h160v-160H400v160Zm0 220h160v-160H400v160ZM180-400h160v-160H180v160Zm440 0h160v-160H620v160ZM180-180h160v-160H180v160Zm440 0h160v-160H620v160Z\"/>\n",
              "  </svg>\n",
              "    </button>\n",
              "\n",
              "  <style>\n",
              "    .colab-df-container {\n",
              "      display:flex;\n",
              "      gap: 12px;\n",
              "    }\n",
              "\n",
              "    .colab-df-convert {\n",
              "      background-color: #E8F0FE;\n",
              "      border: none;\n",
              "      border-radius: 50%;\n",
              "      cursor: pointer;\n",
              "      display: none;\n",
              "      fill: #1967D2;\n",
              "      height: 32px;\n",
              "      padding: 0 0 0 0;\n",
              "      width: 32px;\n",
              "    }\n",
              "\n",
              "    .colab-df-convert:hover {\n",
              "      background-color: #E2EBFA;\n",
              "      box-shadow: 0px 1px 2px rgba(60, 64, 67, 0.3), 0px 1px 3px 1px rgba(60, 64, 67, 0.15);\n",
              "      fill: #174EA6;\n",
              "    }\n",
              "\n",
              "    .colab-df-buttons div {\n",
              "      margin-bottom: 4px;\n",
              "    }\n",
              "\n",
              "    [theme=dark] .colab-df-convert {\n",
              "      background-color: #3B4455;\n",
              "      fill: #D2E3FC;\n",
              "    }\n",
              "\n",
              "    [theme=dark] .colab-df-convert:hover {\n",
              "      background-color: #434B5C;\n",
              "      box-shadow: 0px 1px 3px 1px rgba(0, 0, 0, 0.15);\n",
              "      filter: drop-shadow(0px 1px 2px rgba(0, 0, 0, 0.3));\n",
              "      fill: #FFFFFF;\n",
              "    }\n",
              "  </style>\n",
              "\n",
              "    <script>\n",
              "      const buttonEl =\n",
              "        document.querySelector('#df-c586598c-779b-44be-a873-a6c6a1dcc1fc button.colab-df-convert');\n",
              "      buttonEl.style.display =\n",
              "        google.colab.kernel.accessAllowed ? 'block' : 'none';\n",
              "\n",
              "      async function convertToInteractive(key) {\n",
              "        const element = document.querySelector('#df-c586598c-779b-44be-a873-a6c6a1dcc1fc');\n",
              "        const dataTable =\n",
              "          await google.colab.kernel.invokeFunction('convertToInteractive',\n",
              "                                                    [key], {});\n",
              "        if (!dataTable) return;\n",
              "\n",
              "        const docLinkHtml = 'Like what you see? Visit the ' +\n",
              "          '<a target=\"_blank\" href=https://colab.research.google.com/notebooks/data_table.ipynb>data table notebook</a>'\n",
              "          + ' to learn more about interactive tables.';\n",
              "        element.innerHTML = '';\n",
              "        dataTable['output_type'] = 'display_data';\n",
              "        await google.colab.output.renderOutput(dataTable, element);\n",
              "        const docLink = document.createElement('div');\n",
              "        docLink.innerHTML = docLinkHtml;\n",
              "        element.appendChild(docLink);\n",
              "      }\n",
              "    </script>\n",
              "  </div>\n",
              "\n",
              "\n",
              "<div id=\"df-1c4ad354-5d61-4783-9d6f-fd245af7c8c2\">\n",
              "  <button class=\"colab-df-quickchart\" onclick=\"quickchart('df-1c4ad354-5d61-4783-9d6f-fd245af7c8c2')\"\n",
              "            title=\"Suggest charts\"\n",
              "            style=\"display:none;\">\n",
              "\n",
              "<svg xmlns=\"http://www.w3.org/2000/svg\" height=\"24px\"viewBox=\"0 0 24 24\"\n",
              "     width=\"24px\">\n",
              "    <g>\n",
              "        <path d=\"M19 3H5c-1.1 0-2 .9-2 2v14c0 1.1.9 2 2 2h14c1.1 0 2-.9 2-2V5c0-1.1-.9-2-2-2zM9 17H7v-7h2v7zm4 0h-2V7h2v10zm4 0h-2v-4h2v4z\"/>\n",
              "    </g>\n",
              "</svg>\n",
              "  </button>\n",
              "\n",
              "<style>\n",
              "  .colab-df-quickchart {\n",
              "      --bg-color: #E8F0FE;\n",
              "      --fill-color: #1967D2;\n",
              "      --hover-bg-color: #E2EBFA;\n",
              "      --hover-fill-color: #174EA6;\n",
              "      --disabled-fill-color: #AAA;\n",
              "      --disabled-bg-color: #DDD;\n",
              "  }\n",
              "\n",
              "  [theme=dark] .colab-df-quickchart {\n",
              "      --bg-color: #3B4455;\n",
              "      --fill-color: #D2E3FC;\n",
              "      --hover-bg-color: #434B5C;\n",
              "      --hover-fill-color: #FFFFFF;\n",
              "      --disabled-bg-color: #3B4455;\n",
              "      --disabled-fill-color: #666;\n",
              "  }\n",
              "\n",
              "  .colab-df-quickchart {\n",
              "    background-color: var(--bg-color);\n",
              "    border: none;\n",
              "    border-radius: 50%;\n",
              "    cursor: pointer;\n",
              "    display: none;\n",
              "    fill: var(--fill-color);\n",
              "    height: 32px;\n",
              "    padding: 0;\n",
              "    width: 32px;\n",
              "  }\n",
              "\n",
              "  .colab-df-quickchart:hover {\n",
              "    background-color: var(--hover-bg-color);\n",
              "    box-shadow: 0 1px 2px rgba(60, 64, 67, 0.3), 0 1px 3px 1px rgba(60, 64, 67, 0.15);\n",
              "    fill: var(--button-hover-fill-color);\n",
              "  }\n",
              "\n",
              "  .colab-df-quickchart-complete:disabled,\n",
              "  .colab-df-quickchart-complete:disabled:hover {\n",
              "    background-color: var(--disabled-bg-color);\n",
              "    fill: var(--disabled-fill-color);\n",
              "    box-shadow: none;\n",
              "  }\n",
              "\n",
              "  .colab-df-spinner {\n",
              "    border: 2px solid var(--fill-color);\n",
              "    border-color: transparent;\n",
              "    border-bottom-color: var(--fill-color);\n",
              "    animation:\n",
              "      spin 1s steps(1) infinite;\n",
              "  }\n",
              "\n",
              "  @keyframes spin {\n",
              "    0% {\n",
              "      border-color: transparent;\n",
              "      border-bottom-color: var(--fill-color);\n",
              "      border-left-color: var(--fill-color);\n",
              "    }\n",
              "    20% {\n",
              "      border-color: transparent;\n",
              "      border-left-color: var(--fill-color);\n",
              "      border-top-color: var(--fill-color);\n",
              "    }\n",
              "    30% {\n",
              "      border-color: transparent;\n",
              "      border-left-color: var(--fill-color);\n",
              "      border-top-color: var(--fill-color);\n",
              "      border-right-color: var(--fill-color);\n",
              "    }\n",
              "    40% {\n",
              "      border-color: transparent;\n",
              "      border-right-color: var(--fill-color);\n",
              "      border-top-color: var(--fill-color);\n",
              "    }\n",
              "    60% {\n",
              "      border-color: transparent;\n",
              "      border-right-color: var(--fill-color);\n",
              "    }\n",
              "    80% {\n",
              "      border-color: transparent;\n",
              "      border-right-color: var(--fill-color);\n",
              "      border-bottom-color: var(--fill-color);\n",
              "    }\n",
              "    90% {\n",
              "      border-color: transparent;\n",
              "      border-bottom-color: var(--fill-color);\n",
              "    }\n",
              "  }\n",
              "</style>\n",
              "\n",
              "  <script>\n",
              "    async function quickchart(key) {\n",
              "      const quickchartButtonEl =\n",
              "        document.querySelector('#' + key + ' button');\n",
              "      quickchartButtonEl.disabled = true;  // To prevent multiple clicks.\n",
              "      quickchartButtonEl.classList.add('colab-df-spinner');\n",
              "      try {\n",
              "        const charts = await google.colab.kernel.invokeFunction(\n",
              "            'suggestCharts', [key], {});\n",
              "      } catch (error) {\n",
              "        console.error('Error during call to suggestCharts:', error);\n",
              "      }\n",
              "      quickchartButtonEl.classList.remove('colab-df-spinner');\n",
              "      quickchartButtonEl.classList.add('colab-df-quickchart-complete');\n",
              "    }\n",
              "    (() => {\n",
              "      let quickchartButtonEl =\n",
              "        document.querySelector('#df-1c4ad354-5d61-4783-9d6f-fd245af7c8c2 button');\n",
              "      quickchartButtonEl.style.display =\n",
              "        google.colab.kernel.accessAllowed ? 'block' : 'none';\n",
              "    })();\n",
              "  </script>\n",
              "</div>\n",
              "\n",
              "    </div>\n",
              "  </div>\n"
            ]
          },
          "metadata": {},
          "execution_count": 38
        }
      ],
      "source": [
        "pd.DataFrame(tfidf_train.A,columns=tfidf.get_feature_names_out())"
      ]
    },
    {
      "cell_type": "code",
      "execution_count": null,
      "metadata": {
        "colab": {
          "base_uri": "https://localhost:8080/"
        },
        "id": "c7_OG4yYf2zq",
        "outputId": "c0a91b7d-b342-4290-8b06-56c341666bf8"
      },
      "outputs": [
        {
          "output_type": "execute_result",
          "data": {
            "text/plain": [
              "82.0863309352518"
            ]
          },
          "metadata": {},
          "execution_count": 39
        }
      ],
      "source": [
        "tfidf_mnb = MultinomialNB()\n",
        "tfidf_mnb.fit(tfidf_train.A,y_train)\n",
        "predict_tfidf=tfidf_mnb.predict(tfidf_test.A)\n",
        "accuracy_tfidf = accuracy_score(y_test,predict_tfidf)*100\n",
        "accuracy_tfidf"
      ]
    },
    {
      "cell_type": "code",
      "execution_count": null,
      "metadata": {
        "colab": {
          "base_uri": "https://localhost:8080/"
        },
        "id": "fIXQV0v2f9li",
        "outputId": "3a370383-332c-4436-bef2-d252e502ca95"
      },
      "outputs": [
        {
          "output_type": "execute_result",
          "data": {
            "text/plain": [
              "81.58273381294964"
            ]
          },
          "metadata": {},
          "execution_count": 40
        }
      ],
      "source": [
        "accuracy_count"
      ]
    },
    {
      "cell_type": "code",
      "execution_count": null,
      "metadata": {
        "id": "jhQ8DFDvf96i"
      },
      "outputs": [],
      "source": [
        "from nltk.util import ngrams\n",
        "# [w1 w2 w3]\n",
        "def splitting_dataframe(data):\n",
        "    tokens = data.split()\n",
        "    return tokens\n",
        "\n",
        "data = clean_text_test.apply(splitting_dataframe)\n",
        "\n",
        "def ngram_list(data,ngram_range):\n",
        "    ngram = ngrams(data,ngram_range) # zip file\n",
        "    ngram_list1 = []\n",
        "    for ngram1 in ngram: #opening the zip file\n",
        "        ngram_list1.append(' '.join(ngram1))\n",
        "    return ngram_list1"
      ]
    },
    {
      "cell_type": "code",
      "execution_count": null,
      "metadata": {
        "colab": {
          "base_uri": "https://localhost:8080/"
        },
        "id": "z9um18W5f-OP",
        "outputId": "4afcec07-0055-4969-89c3-eb5fc4fe22d4"
      },
      "outputs": [
        {
          "output_type": "execute_result",
          "data": {
            "text/plain": [
              "4963    [must, preface, saying, huge, romantic, hence,...\n",
              "4943    [stalingrad, terrific, movie, well, acted, dir...\n",
              "4345    [house, dead, dead, aim, sequel, though, reall...\n",
              "230     [return, horror, movie, come, scream, not, sca...\n",
              "1044    [unfortunately, movie, never, made, dvd, saw, ...\n",
              "                              ...                        \n",
              "2765    [emma, favourite, jane, austen, novel, emma, d...\n",
              "1672     [ming, merciless, little, bardwork, movie, foul]\n",
              "1505    [seen, movie, countes, time, still, not, get, ...\n",
              "2962    [lackawanna, blue, touching, story, nanny, wom...\n",
              "5264    [watched, film, hundred, time, really, best, s...\n",
              "Name: text, Length: 1390, dtype: object"
            ]
          },
          "metadata": {},
          "execution_count": 42
        }
      ],
      "source": [
        "unigrams = data.apply(lambda x : ngram_list(x,1)) # x >> single review\n",
        "unigrams"
      ]
    },
    {
      "cell_type": "code",
      "execution_count": null,
      "metadata": {
        "id": "1GDxxs5OgHcK"
      },
      "outputs": [],
      "source": [
        "#bigrams = data.apply(lambda x : ngram_list1(x,2)) # x >> single review\n",
        "#bigrams"
      ]
    },
    {
      "cell_type": "code",
      "execution_count": null,
      "metadata": {
        "id": "PTALCrjRgHuj"
      },
      "outputs": [],
      "source": [
        "#trigrams = data.apply(lambda x : ngram_list1(x,3)) # x >> single review\n",
        "#trigrams"
      ]
    },
    {
      "cell_type": "code",
      "execution_count": null,
      "metadata": {
        "id": "Gw8hUR8TgIAA"
      },
      "outputs": [],
      "source": []
    }
  ],
  "metadata": {
    "colab": {
      "provenance": [],
      "include_colab_link": true
    },
    "kernelspec": {
      "display_name": "Python 3 (ipykernel)",
      "language": "python",
      "name": "python3"
    },
    "language_info": {
      "codemirror_mode": {
        "name": "ipython",
        "version": 3
      },
      "file_extension": ".py",
      "mimetype": "text/x-python",
      "name": "python",
      "nbconvert_exporter": "python",
      "pygments_lexer": "ipython3",
      "version": "3.10.9"
    }
  },
  "nbformat": 4,
  "nbformat_minor": 0
}